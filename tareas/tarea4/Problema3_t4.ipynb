{
 "cells": [
  {
   "cell_type": "markdown",
   "metadata": {},
   "source": [
    "## Problema 3\n",
    "Realizamos la consulta requerida usando el paquete pgmpy."
   ]
  },
  {
   "cell_type": "code",
   "execution_count": 1,
   "metadata": {},
   "outputs": [],
   "source": [
    "# importación\n",
    "from pgmpy.models import BayesianModel\n",
    "from pgmpy.factors.discrete import TabularCPD\n",
    "from pgmpy.inference import VariableElimination"
   ]
  },
  {
   "cell_type": "markdown",
   "metadata": {},
   "source": [
    "Ahora declaramos el modelo para la detección de Ebola"
   ]
  },
  {
   "cell_type": "code",
   "execution_count": 60,
   "metadata": {},
   "outputs": [],
   "source": [
    "#  Variables y dependencias del modelo\n",
    "ebola_model = BayesianModel([('Ebola', 'Fiebre'),\n",
    "                            ('Ebola', 'Sangrado'), \n",
    "                            ('Sangrado', 'Visita'),\n",
    "                            ('Fiebre', 'Visita'),\n",
    "                            ('Visita', 'Especialista'), \n",
    "                            ('Sangrado', 'Complicaciones')])"
   ]
  },
  {
   "cell_type": "code",
   "execution_count": 59,
   "metadata": {},
   "outputs": [],
   "source": [
    "# Distribuciones condicionales\n",
    "dpc_ebo = TabularCPD(variable='Ebola', variable_card=2, \n",
    "                    values=[[0.01],[0.99]])\n",
    "dpc_fie = TabularCPD(variable='Fiebre', variable_card=2,\n",
    "                    values=[[0.9, 0.4],\n",
    "                            [0.1, 0.6]], \n",
    "                    evidence=['Ebola'],\n",
    "                    evidence_card=[2])\n",
    "dpc_san = TabularCPD(variable='Sangrado', variable_card=2,\n",
    "                    values=[[0.95, 0.2],\n",
    "                            [0.05, 0.8]], \n",
    "                    evidence=['Ebola'],\n",
    "                    evidence_card=[2])\n",
    "dpc_vis = TabularCPD(variable='Visita', variable_card=2,\n",
    "                     values=[[1.0, 0.3, 0.5, 0.2],\n",
    "                             [0.0, 0.7, 0.5, 0.8]],\n",
    "                     evidence=['Fiebre', 'Sangrado'],\n",
    "                     evidence_card=[2, 2])\n",
    "dpc_com = TabularCPD(variable='Complicaciones', variable_card=2,\n",
    "                    values=[[0.9, 0.25],\n",
    "                            [0.1, 0.75]], \n",
    "                    evidence=['Sangrado'],\n",
    "                    evidence_card=[2])\n",
    "dpc_esp = TabularCPD(variable='Especialista', variable_card=2,\n",
    "                    values=[[1.0, 0.2],\n",
    "                            [0.0, 0.8]], \n",
    "                    evidence=['Visita'],\n",
    "                    evidence_card=[2])"
   ]
  },
  {
   "cell_type": "code",
   "execution_count": 61,
   "metadata": {},
   "outputs": [
    {
     "data": {
      "text/plain": [
       "True"
      ]
     },
     "execution_count": 61,
     "metadata": {},
     "output_type": "execute_result"
    }
   ],
   "source": [
    "# Asociación de distribuciones a modelo\n",
    "ebola_model.add_cpds(dpc_ebo, dpc_fie, dpc_san, dpc_vis, dpc_com, dpc_esp)\n",
    "\n",
    "# verificación del modelo\n",
    "ebola_model.check_model()"
   ]
  },
  {
   "cell_type": "code",
   "execution_count": 64,
   "metadata": {},
   "outputs": [
    {
     "name": "stdout",
     "output_type": "stream",
     "text": [
      "+---------+--------------+\n",
      "| Ebola   |   phi(Ebola) |\n",
      "+=========+==============+\n",
      "| Ebola_0 |       0.0013 |\n",
      "+---------+--------------+\n",
      "| Ebola_1 |       0.9987 |\n",
      "+---------+--------------+\n"
     ]
    }
   ],
   "source": [
    "# instanciando objecto de eliminación de variables\n",
    "ebola_inf = VariableElimination(ebola_model)\n",
    "\n",
    "# consulta P(Ebola = falso | Especialista = 1)\n",
    "consulta_ebo_esp = ebola_inf.query(variables=['Ebola'], evidence={'Especialista': 1})\n",
    "#print(consulta_exp_ofe['Experiencia'])\n",
    "print(consulta_ebo_esp)"
   ]
  },
  {
   "cell_type": "code",
   "execution_count": 65,
   "metadata": {},
   "outputs": [
    {
     "name": "stdout",
     "output_type": "stream",
     "text": [
      "+----------+---------------+\n",
      "| Visita   |   phi(Visita) |\n",
      "+==========+===============+\n",
      "| Visita_0 |        0.2559 |\n",
      "+----------+---------------+\n",
      "| Visita_1 |        0.7441 |\n",
      "+----------+---------------+\n"
     ]
    }
   ],
   "source": [
    "consulta_ebo_esp = ebola_inf.query(variables=['Visita'], evidence={'Complicaciones': 1})\n",
    "print(consulta_ebo_esp)"
   ]
  }
 ],
 "metadata": {
  "kernelspec": {
   "display_name": "Python 3",
   "language": "python",
   "name": "python3"
  },
  "language_info": {
   "codemirror_mode": {
    "name": "ipython",
    "version": 3
   },
   "file_extension": ".py",
   "mimetype": "text/x-python",
   "name": "python",
   "nbconvert_exporter": "python",
   "pygments_lexer": "ipython3",
   "version": "3.7.1"
  }
 },
 "nbformat": 4,
 "nbformat_minor": 2
}
