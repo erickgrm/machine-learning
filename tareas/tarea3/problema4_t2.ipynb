{
 "cells": [
  {
   "cell_type": "code",
   "execution_count": 1,
   "metadata": {},
   "outputs": [],
   "source": [
    "import pandas as pd\n",
    "import numpy as np\n",
    "import matplotlib.pyplot as plt\n",
    "from sklearn.model_selection import train_test_split\n",
    "\n",
    "# Import own libraries with custom technical routines and implemented logistic regression\n",
    "from custom_routines import custom_routines as cr\n",
    "from logisticReg import logistic_regression\n",
    "\n",
    "# Import Naive Bayes classifiers from sci-kit learn\n",
    "from sklearn.naive_bayes import MultinomialNB, GaussianNB"
   ]
  },
  {
   "cell_type": "markdown",
   "metadata": {},
   "source": [
    "## 1. Clasificación de spam"
   ]
  },
  {
   "cell_type": "code",
   "execution_count": 2,
   "metadata": {},
   "outputs": [
    {
     "name": "stdout",
     "output_type": "stream",
     "text": [
      "5172\n",
      "3620 1552\n"
     ]
    }
   ],
   "source": [
    "spam_data = pd.read_csv(\"~/Desktop/mcc20192/mlearning/tareas/tarea3/data/spam.csv\", header=None, delimiter=\" \").values\n",
    "print(len(spam_data))\n",
    "#Partición aleatoria del conjunto de datos, 70% para entrenamiento y 30% para validación\n",
    "train_spam_data, test_spam_data = train_test_split(spam_data, test_size=0.30, random_state=0)\n",
    "print(len(train_spam_data),len(test_spam_data))"
   ]
  },
  {
   "cell_type": "code",
   "execution_count": 3,
   "metadata": {},
   "outputs": [
    {
     "name": "stdout",
     "output_type": "stream",
     "text": [
      "0.9541436464088398\n",
      "0.9478092783505154\n"
     ]
    }
   ],
   "source": [
    "multinomial_classifier = MultinomialNB()\n",
    "\n",
    "multinomial_classifier.fit(train_spam_data[0:,:-1], train_spam_data[0:,-1])\n",
    "print(multinomial_classifier.score(train_spam_data[0:,:-1], train_spam_data[0:,-1]))\n",
    "print(multinomial_classifier.score(test_spam_data[0:,:-1], test_spam_data[0:,-1]))"
   ]
  },
  {
   "cell_type": "code",
   "execution_count": 4,
   "metadata": {},
   "outputs": [],
   "source": [
    "# Train logistic regression \n",
    "logit_reg1 = logistic_regression()\n",
    "logit_reg1.fit(train_spam_data[0:,:-1],train_spam_data[0:,-1],0)"
   ]
  },
  {
   "cell_type": "code",
   "execution_count": 5,
   "metadata": {},
   "outputs": [
    {
     "name": "stdout",
     "output_type": "stream",
     "text": [
      "0.9941988950276243\n",
      "0.9639175257731959\n"
     ]
    }
   ],
   "source": [
    "print(logit_reg1.score(train_spam_data[0:,:-1],train_spam_data[0:,-1]))\n",
    "print(logit_reg1.score(test_spam_data[0:,:-1],test_spam_data[0:,-1]))"
   ]
  },
  {
   "cell_type": "markdown",
   "metadata": {},
   "source": [
    "## 2. Clasificación de tumores de seno"
   ]
  },
  {
   "cell_type": "code",
   "execution_count": 6,
   "metadata": {},
   "outputs": [
    {
     "name": "stdout",
     "output_type": "stream",
     "text": [
      "[[5 1 1 ... 1 1 2]\n",
      " [5 4 4 ... 2 1 2]\n",
      " [3 1 1 ... 1 1 2]\n",
      " ...\n",
      " [5 10 10 ... 10 2 4]\n",
      " [4 8 6 ... 6 1 4]\n",
      " [4 8 8 ... 4 1 4]]\n"
     ]
    }
   ],
   "source": [
    "cancer_data_raw = pd.read_csv(\"~/Desktop/mcc20192/mlearning/tareas/tarea3/data/breast-cancer-wisconsin.data\", header=None).values[0:,1:]\n",
    "print(cancer_data_raw)"
   ]
  },
  {
   "cell_type": "code",
   "execution_count": 12,
   "metadata": {},
   "outputs": [
    {
     "name": "stdout",
     "output_type": "stream",
     "text": [
      "[[ 5.  1.  1. ...  1.  1.  0.]\n",
      " [ 5.  4.  4. ...  2.  1.  0.]\n",
      " [ 3.  1.  1. ...  1.  1.  0.]\n",
      " ...\n",
      " [ 5. 10. 10. ... 10.  2.  1.]\n",
      " [ 4.  8.  6. ...  6.  1.  1.]\n",
      " [ 4.  8.  8. ...  4.  1.  1.]]\n",
      "489 210\n"
     ]
    }
   ],
   "source": [
    "#Sustituir valores desconocidos por 0 y cambiar las etiquetas por 0 y 1\n",
    "n = len(cancer_data_raw)\n",
    "l = len(cancer_data_raw[0])\n",
    "cancer_data = np.ndarray(shape = (n,l))\n",
    "type(cancer_data[0][0])\n",
    "\n",
    "for i in range(0, n):\n",
    "    for j in range(0, l-1):\n",
    "        if cancer_data_raw[i][j] == '?':\n",
    "            cancer_data[i][j] = 0\n",
    "        else:\n",
    "            cancer_data[i][j] = int(cancer_data_raw[i][j])\n",
    "    cancer_data[i][-1] = int(cancer_data_raw[i][-1]/2 -1)\n",
    "\n",
    "print(cancer_data)\n",
    "\n",
    "#Partición aleatoria del conjunto de datos, 70% para entrenamiento y 30% para validación\n",
    "train_cancer_data, test_cancer_data = train_test_split(cancer_data, test_size=0.30, random_state=0)\n",
    "print(len(train_cancer_data),len(test_cancer_data))"
   ]
  },
  {
   "cell_type": "code",
   "execution_count": 13,
   "metadata": {},
   "outputs": [
    {
     "name": "stdout",
     "output_type": "stream",
     "text": [
      "GaussianNB(priors=None, var_smoothing=1e-09)\n"
     ]
    }
   ],
   "source": [
    "gaussian_classifier = GaussianNB()\n",
    "\n",
    "# Entrenamos el clasificador\n",
    "print(gaussian_classifier.fit(train_cancer_data[0:,:-1], train_cancer_data[0:,-1]))"
   ]
  },
  {
   "cell_type": "code",
   "execution_count": 15,
   "metadata": {},
   "outputs": [
    {
     "data": {
      "text/plain": [
       "0.9380952380952381"
      ]
     },
     "execution_count": 15,
     "metadata": {},
     "output_type": "execute_result"
    }
   ],
   "source": [
    "gaussian_classifier.score(test_cancer_data[0:,:-1],test_cancer_data[0:,-1])"
   ]
  },
  {
   "cell_type": "code",
   "execution_count": 16,
   "metadata": {},
   "outputs": [],
   "source": [
    "# Train logistic regression \n",
    "logit_reg2 = logistic_regression()\n",
    "logit_reg2.fit(train_cancer_data[0:,:-1], train_cancer_data[0:,-1],0)"
   ]
  },
  {
   "cell_type": "code",
   "execution_count": 17,
   "metadata": {},
   "outputs": [
    {
     "name": "stdout",
     "output_type": "stream",
     "text": [
      "0.8711656441717791\n",
      "0.8571428571428571\n"
     ]
    }
   ],
   "source": [
    "print(logit_reg2.score(train_cancer_data[0:,:-1], train_cancer_data[0:,-1]))\n",
    "print(logit_reg2.score(test_cancer_data[0:,:-1], test_cancer_data[0:,-1]))"
   ]
  }
 ],
 "metadata": {
  "kernelspec": {
   "display_name": "Python 3",
   "language": "python",
   "name": "python3"
  },
  "language_info": {
   "codemirror_mode": {
    "name": "ipython",
    "version": 3
   },
   "file_extension": ".py",
   "mimetype": "text/x-python",
   "name": "python",
   "nbconvert_exporter": "python",
   "pygments_lexer": "ipython3",
   "version": "3.7.1"
  }
 },
 "nbformat": 4,
 "nbformat_minor": 2
}
