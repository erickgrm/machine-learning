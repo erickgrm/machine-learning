{
 "cells": [
  {
   "cell_type": "markdown",
   "metadata": {},
   "source": [
    "# Predicción de precios de casas"
   ]
  },
  {
   "cell_type": "code",
   "execution_count": 2,
   "metadata": {},
   "outputs": [],
   "source": [
    "import pandas as pd\n",
    "import numpy as np\n",
    "import matplotlib.pyplot as plt\n",
    "\n",
    "# Import own library with custom technical routines\n",
    "from custom_routines import custom_routines as cr"
   ]
  },
  {
   "cell_type": "code",
   "execution_count": 3,
   "metadata": {},
   "outputs": [],
   "source": [
    "data = pd.read_csv(\"~/Desktop/mcc20192/mlearning/tareas/tarea3/data/housing.data\", header=None, delim_whitespace=True)"
   ]
  },
  {
   "cell_type": "markdown",
   "metadata": {},
   "source": [
    "## Estimador con regresión polinómica\n",
    "Proponemos ajustar los datos con un modelo con 13 variables explicativas y una de respuesta (el precio de las casas). \n",
    "\n",
    "Buscamos usar un modelo de la forma\n",
    "$$ f(\\bar x) = a_0+\\sum_{i=1}^{12} a_i\\Phi(x_i),$$\n",
    "donde $\\Phi(x_i) = x_i +\n",
    "Para usar mínimos cuadrados, la función de error asociada al modelo es: \n",
    "$$ E(a) = \\frac{1}{2}\\sum_{j=1}^{506} (y_j-f(\\bar x^j)$$\n",
    "\n",
    "Buscamos la tupla $a = (a_0,a_1,\\dots, a_{12})$ que minimiza a $E$, la cual se obtiene con la siguiente fórmula: \n",
    "\n",
    "$$ a_{lsq} = (X^TX)^{-1}X^Ty,$$\n",
    "donde $X$ es la matriz de $12\\times 12$ con todos los valores de las variables dependientes, $X^T$ es su transpuesta, y $y$ es el vector de los valores de la variable respuesta. \n",
    "\n",
    "Debajo calculamos $a_{lsq}$. "
   ]
  },
  {
   "cell_type": "code",
   "execution_count": 3,
   "metadata": {},
   "outputs": [],
   "source": [
    "#gs = plt.GridSpec(5,3)\n",
    "#fig = plt.figure(figsize=(16,16))\n",
    "#for i in range(0,4): \n",
    "#    for j in range(0,3):\n",
    "#        fig.add_subplot(gs[i,j]).plot(X[0:,(3*i)+j], y, 'ko', label = (3*i)+j)\n",
    "#        plt.legend()\n",
    "#fig.add_subplot(gs[4,0]).plot(X[0:,12], y, 'ko', label = 12)\n",
    "#plt.legend()\n",
    "#fig.add_subplot(gs[4,1]).plot(y, y, 'ko', label = 13)\n",
    "#plt.legend()"
   ]
  },
  {
   "cell_type": "code",
   "execution_count": 4,
   "metadata": {},
   "outputs": [],
   "source": [
    "# Function for crossvalidation\n",
    "from sklearn.model_selection import train_test_split\n",
    "def cvk(model, Matrix, k):\n",
    "    cv_results = np.zeros(shape=(k,2))\n",
    "    for i in range(0,k):\n",
    "        train_set_i, test_set_i = train_test_split(Matrix, test_size = 0.30, random_state = i)\n",
    "        X_i = train_set_i[0:,:-1]\n",
    "        y_i = train_set_i[0:,-1]\n",
    "        model.fit(X_i,y_i)\n",
    "    \n",
    "        # Training error\n",
    "        cv_results[i][0] = cr.sqerror(model.predict(X_i),y_i)\n",
    "    \n",
    "        # Validation error\n",
    "        Xv_i = test_set_i[0:,:-1]\n",
    "        yv_i = test_set_i[0:,-1]\n",
    "        cv_results[i][1] = cr.sqerror(model.predict(Xv_i),yv_i)\n",
    "        \n",
    "    return cv_results"
   ]
  },
  {
   "cell_type": "markdown",
   "metadata": {},
   "source": [
    "### Fitting a polynomial model with no interactions"
   ]
  },
  {
   "cell_type": "code",
   "execution_count": 5,
   "metadata": {},
   "outputs": [
    {
     "name": "stdout",
     "output_type": "stream",
     "text": [
      "Dim of X: 506 x 14\n"
     ]
    },
    {
     "data": {
      "text/plain": [
       "array([[2.99364108, 3.30306864],\n",
       "       [3.15756768, 2.98726269],\n",
       "       [3.09411797, 3.13718031],\n",
       "       [3.10994077, 3.11048566],\n",
       "       [2.94830983, 3.40299554],\n",
       "       [2.94802947, 3.42416616],\n",
       "       [2.96944326, 3.3438461 ],\n",
       "       [3.05558738, 3.24912874],\n",
       "       [3.06573072, 3.16615755],\n",
       "       [3.14279612, 2.95988482]])"
      ]
     },
     "execution_count": 5,
     "metadata": {},
     "output_type": "execute_result"
    }
   ],
   "source": [
    "# Example of building model matrix using a polynomial expansion of degree d\n",
    "d = 1\n",
    "X = cr.modelMatrix(data.values[0:,:-1],d)\n",
    "y = data.values[0:,-1]\n",
    "print(\"Dim of X:\", len(X),\"x\",len(X[0]))\n",
    "from sklearn import linear_model\n",
    "dmodel = linear_model.LinearRegression()\n",
    "dmodel.fit(X,y)\n",
    "cvk(dmodel, np.column_stack((X, y)), 10)"
   ]
  },
  {
   "cell_type": "code",
   "execution_count": 6,
   "metadata": {},
   "outputs": [],
   "source": [
    "from sklearn import linear_model\n",
    "dmodel = linear_model.LinearRegression()\n",
    "\n",
    "# Look for best degree among 1 to 31\n",
    "results = np.zeros(shape=(30,2))\n",
    "for d in range(0,30):\n",
    "    X = cr.modelMatrix(data.values[0:,:-1], d + 1)\n",
    "    dmodel.fit(X,y)\n",
    "    # Evaluation by cross-validation, k = 10\n",
    "    a = cvk(dmodel, np.column_stack((X,y)), 10)\n",
    "    \n",
    "    results[d][0] = a[0:,0].mean()\n",
    "    results[d][1] = a[0:,1].mean()\n",
    "    # Evaluation by simple error on training set\n",
    "    #results[d] = cr.sqerror(dmodel.predict(X),y)"
   ]
  },
  {
   "cell_type": "code",
   "execution_count": 9,
   "metadata": {},
   "outputs": [
    {
     "name": "stdout",
     "output_type": "stream",
     "text": [
      "Min Error on validation set 2.412638120706675 for degree  4\n",
      "[2.41263812 3.00938998]\n"
     ]
    },
    {
     "data": {
      "image/png": "[encoded data removed]",
      "text/plain": [
       "<Figure size 432x288 with 1 Axes>"
      ]
     },
     "metadata": {
      "needs_background": "light"
     },
     "output_type": "display_data"
    }
   ],
   "source": [
    "# Minimum error and degree among 1,...,31 that ensures it\n",
    "print(\"Min Error on validation set\", np.min(results[0:,0]), \"for degree \", np.argmin(results[0:,1]) + 1)\n",
    "print(results[3])\n",
    "\n",
    "#plt.plot(np.arange(1,31), results)\n",
    "#plt.plot(np.arange(1,31), results[0:,0], label = \"E(train)\")\n",
    "plt.plot(np.arange(1,31), results[0:,1], label = \"E(val)\")\n",
    "plt.legend()\n",
    "plt.grid(True)\n",
    "plt.ylabel(\"Error\")\n",
    "plt.xlabel(\"Degree\")\n",
    "plt.show()"
   ]
  },
  {
   "cell_type": "markdown",
   "metadata": {},
   "source": [
    "### Fitting a polynomial model with interactions"
   ]
  },
  {
   "cell_type": "code",
   "execution_count": 8,
   "metadata": {},
   "outputs": [],
   "source": [
    "from sklearn.preprocessing import PolynomialFeatures"
   ]
  },
  {
   "cell_type": "code",
   "execution_count": 9,
   "metadata": {},
   "outputs": [
    {
     "name": "stdout",
     "output_type": "stream",
     "text": [
      "506 14\n",
      "3.0485164285508315 3.208417621156007\n",
      "506 105\n",
      "1.613540641445013 2.89055163013549\n",
      "506 560\n",
      "-36.76448280455678 10.324090536538204\n",
      "506 2380\n",
      "-44.28337404869727 10.84410164623011\n",
      "506 8568\n",
      "-43.932245141882866 10.666742442748035\n",
      "506 27132\n",
      "-43.66865111670192 11.018237458617937\n",
      "506 77520\n",
      "-43.45996972446565 11.121258686757223\n"
     ]
    }
   ],
   "source": [
    "dmodel = linear_model.LinearRegression(fit_intercept = False)#, normalize = True)\n",
    "\n",
    "y = data.values[0:,-1]\n",
    "results = np.zeros(shape=(7,2))\n",
    "for d in range(0,7):\n",
    "    poly = PolynomialFeatures(d+1)\n",
    "    pX = poly.fit_transform(data.values[0:,:-1])\n",
    "    print(len(pX),len(pX[0]))\n",
    "    dmodel.fit(pX,y)\n",
    "    \n",
    "    # Evaluation by cross-validation, k = 10\n",
    "    a = cvk(dmodel, np.column_stack((pX,y)), 10)\n",
    "    \n",
    "    results[d][0] = a[0:,0].mean()\n",
    "    results[d][1] = a[0:,1].mean()\n",
    "    print(results[d][0],results[d][1])\n",
    "    \n",
    "    #results[d] = cr.sqerror(dmodel.predict(pX),y)\n",
    "\n",
    "    # Evaluation by cross-validation, k = 10\n",
    "    #results[d] = cvk(dmodel, d + 1, 10).mean()\n",
    "    # Evaluation by simple error on training set\n",
    "    #results[d] = cr.sqerror(dmodel.predict(X),y)"
   ]
  },
  {
   "cell_type": "code",
   "execution_count": 12,
   "metadata": {},
   "outputs": [
    {
     "name": "stdout",
     "output_type": "stream",
     "text": [
      "Min Error: 2.89055163013549 for degree  2\n",
      "[3.04851643 3.20841762]\n",
      "[1.61354064 2.89055163]\n",
      "[-36.7644828   10.32409054]\n"
     ]
    },
    {
     "data": {
      "image/png": "[encoded data removed]",
      "text/plain": [
       "<Figure size 432x288 with 1 Axes>"
      ]
     },
     "metadata": {
      "needs_background": "light"
     },
     "output_type": "display_data"
    }
   ],
   "source": [
    "# Minimum error and degree among 1,...,8 that ensures it\n",
    "print(\"Min Error:\", np.min(results[0:,1]), \"for degree \", np.argmin(results[0:,1]) + 1)\n",
    "print(results[0])\n",
    "print(results[1])\n",
    "print(results[2])\n",
    "#plt.plot(np.arange(1,7), results)\n",
    "plt.plot(np.arange(1,8), results[0:,0], label = \"E(train)\")\n",
    "plt.plot(np.arange(1,8), results[0:,1], label = \"E(val)\")\n",
    "plt.legend()\n",
    "plt.grid(True)\n",
    "plt.ylabel(\"Error\")\n",
    "plt.xlabel(\"Degree\")\n",
    "plt.show()"
   ]
  }
 ],
 "metadata": {
  "kernelspec": {
   "display_name": "Python 3",
   "language": "python",
   "name": "python3"
  },
  "language_info": {
   "codemirror_mode": {
    "name": "ipython",
    "version": 3
   },
   "file_extension": ".py",
   "mimetype": "text/x-python",
   "name": "python",
   "nbconvert_exporter": "python",
   "pygments_lexer": "ipython3",
   "version": "3.7.1"
  }
 },
 "nbformat": 4,
 "nbformat_minor": 2
}
