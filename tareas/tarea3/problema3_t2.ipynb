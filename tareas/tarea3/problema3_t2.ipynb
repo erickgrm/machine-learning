{
 "cells": [
  {
   "cell_type": "markdown",
   "metadata": {},
   "source": [
    "# Predicción de Juegos"
   ]
  },
  {
   "cell_type": "code",
   "execution_count": 1,
   "metadata": {},
   "outputs": [],
   "source": [
    "import pandas as pd\n",
    "import numpy as np\n",
    "import matplotlib.pyplot as plt\n",
    "from sklearn.metrics import roc_curve, auc\n",
    "from sklearn  import metrics\n",
    "\n",
    "# Import own library with custom technical routines\n",
    "from custom_routines import custom_routines as cr"
   ]
  },
  {
   "cell_type": "markdown",
   "metadata": {},
   "source": [
    "En este problema deseamos entrenar un clasificador bayesiano ingenuo y un clasificador basado en regresión logística. Para comenzar con la discusión sobre los retos en este problema, iniciamos por cargar los datos correspondientes. Añadimos también una columna de unos como primer columna para que nuestro entrenamiento aprenda el intercepto (bias) directamente. \n",
    "\n",
    "Como los datos de entrenamiento y validación están en diferentes archivos (\"juegos_entrenamiento.txt\" y \"juegos_validacion.txt\") debemos cargar ambos datos."
   ]
  },
  {
   "cell_type": "code",
   "execution_count": 2,
   "metadata": {},
   "outputs": [
    {
     "name": "stdout",
     "output_type": "stream",
     "text": [
      "Muestra del formato de los datos de entrenamiento:\n",
      " [[  1.   8.  18.   1.]\n",
      " [  1. 112.  40.   0.]\n",
      " [  1.  20.  17.   0.]\n",
      " [  1.  21.  22.   1.]\n",
      " [  1.  17.  23.   1.]]\n"
     ]
    }
   ],
   "source": [
    "# Extracción de los datos para entrenamiento\n",
    "\n",
    "train_dF = pd.read_csv(\"~/Desktop/mcc20192/mlearning/tareas/tarea3/data/juegos_entrenamiento.txt\", header = None, delim_whitespace = True)\n",
    "# Añadimos una columna de unos como primer columna\n",
    "train_dF.insert(0,0,list(np.ones(len(train_dF))), True)\n",
    "\n",
    "# Extraemos un arreglo numpy del dataframe original\n",
    "train_data = train_dF.values\n",
    "print(\"Muestra del formato de los datos de entrenamiento:\\n\", train_data[4:9])"
   ]
  },
  {
   "cell_type": "code",
   "execution_count": 3,
   "metadata": {},
   "outputs": [
    {
     "name": "stdout",
     "output_type": "stream",
     "text": [
      "Muestra del formato de los datos de validación:\n",
      " [[  1.  35.  43.   1.]\n",
      " [  1. 132. 103.   0.]\n",
      " [  1.  46.  13.   1.]\n",
      " [  1.  47.  44.   1.]\n",
      " [  1.  85.   9.   0.]]\n"
     ]
    }
   ],
   "source": [
    "# Extracción de los datos paea validación\n",
    "\n",
    "test_df = pd.read_csv(\"~/Desktop/mcc20192/mlearning/tareas/tarea3/data/juegos_validacion.txt\", header = None, delim_whitespace = True)\n",
    "\n",
    "# Añadimos una columna de unos como primer columna\n",
    "test_df.insert(0,0,list(np.ones(len(test_df))), True)\n",
    "\n",
    "# Extraemos un arreglo numpy del dataframe original\n",
    "test_data = test_df.values\n",
    "print(\"Muestra del formato de los datos de validación:\\n\", test_data[4:9])"
   ]
  },
  {
   "cell_type": "markdown",
   "metadata": {},
   "source": [
    "## 0. Consideraciones iniciales importantes\n",
    "Observe que la variable respuesta toma valores 0 ó 1, por lo que tanto un clasificador bayesiano ingenuo como un clasificador por regresión logística se puede aplicar en ese respecto. \n",
    "\n",
    "Sin embargo, el mayor reto en el presente problema es que los atributos (columnas uno y dos) no deben considerarse como valores numéricos. En realidad, las entradas de los atributos son etiquetas para los jugadores, y lo correcto es entonces suponer que la distribución de los atributos es categórica. \n",
    "\n",
    "La anterior observación no díficulta el entrenamiento de un clasificador bayesiano ingenuo pues basta construir uno para el cual las distribuciones de los atributos son categóricas. Sin embargo, esa observación sí complica el uso de un modelo de regresión lógistica: la regresión logística requiere que los atributos tengan caractér numérico. La regresión logística no se puede aplicar teniendo atributos categóricos. \n",
    "\n",
    "El problema planteado exige la aplicación de un preprocesamiento de los datos de tal forma que cada categoría sea mapeada algún valor (o vector) de tal forma que después de preprocesar todos los datos estemos en condiciones de aplicar regresión logística. Una de las formas más conocidas de lograr esto es preprocesar los datos a través de una codificación de cada categoría en un vector de 0's y 1's. A esto se le conoce como one-hot-encoding. Por ejemplo, codificar las etiquetas A,B y C con one-hot-encoding consiste en hacer la asignación: \n",
    "\\begin{align*}\n",
    "        A &\\longleftrightarrow (1,0,0)\\\\\n",
    "        B &\\longleftrightarrow (0,1,0)\\\\\n",
    "        C &\\longleftrightarrow (0,0,1)\\\\\n",
    "    \\end{align*}\n",
    "        \n",
    "En nuestro caso, existe un total de 143 jugadores distintos (143 números distintos en las columnas 1 y 2 de los datos de entrenamiento y de validación). En este punto lo que podemos hacer es aplicar one-hot-encoding, generando 143 distintos vectores de 0's y 1's, y entonces aplicar regresión logística a los datos así tratados. Sin embargo, proponemos una semántica distinta para la codificación. \n",
    "\n",
    "En el juego de go existe una ventaja inicial para el jugador que abre el juego, que es aquel que juega con las piedras negras. Es natural pensar que si los datos provienen de un club de jugadores de go \"amateur\", haya más partidas ganadas por los jugadores que juegan con las piedras negras, dada la ventaja inicial y lo probable de que no se impogan handicaps apropiados en todas las partidas.  "
   ]
  },
  {
   "cell_type": "code",
   "execution_count": 4,
   "metadata": {},
   "outputs": [
    {
     "name": "stdout",
     "output_type": "stream",
     "text": [
      "Total de partidas:  319\n",
      "Número de victorias de jugadores en la columna 1: 167.0\n"
     ]
    }
   ],
   "source": [
    "# Contar el número de veces que jugadores en la columna 1 ganaron\n",
    "print(\"Total de partidas: \", len(train_data))\n",
    "count = train_data[0:,-1].sum()\n",
    "print(\"Número de victorias de jugadores en la columna 1:\", count)"
   ]
  },
  {
   "cell_type": "markdown",
   "metadata": {},
   "source": [
    "Como hay un total de 319 renglones en train_data se tiene que hay más victorias de los jugadores en la columna 1 (167) que de jugadores en la columna 2 (152). Por lo tanto, nuestra suposición a partir de ahora será que los datos se recolectaron de tal forma que los jugadores que jugaron con las piedras negras se registraron en la primera columna. Es importante remarcar que no podemos saber si esta suposición es correcta, y debemos tomarla como una hipótesis que hace un poco más interesante al problema y tiene una semántica razonable.\n",
    "\n",
    "Algo que ganamos con la hipótesis anterior es que nuestro problema de aprendizaje (entrenar un clasificador) se puede interpretar como un problema de asignar un rating a cada jugador. Así, por ejemplo, una vez entrenado algún modelo, tiene sentido preguntarse si un jugador jugando con piedras negras podría vencerse a sí mismo jugando con piedras blancas. El modelo sería capaz de responder tales preguntas.\n",
    "\n",
    "El problema se vuelve un poco más interesante porque nuestra suposición nos fuerza a aplicar codificaciones independientes a las columnas de atributos (note que la aparición del jugador k en la columna 1 se considerará distinta de alguna otra aparición de él en la columna 2, es decir, el jugador k se considera como dos jugadores: (k, que juega con piedras negras) y (k, que juega con piedras blancas)).\n",
    "\n",
    "En la siguiente celda aplicamos one-hot-encoding a train_data+test_data (aplicarlo a tal concatenación es necesario pues hay jugadores en test_data que no aparecieron en train_data). Note que usamos dos codificadores distintos enc1 y enc2 correspondientes a la columna 1 y 2, respectivamente. Posteriormente, si dados dos jugadores N y M deseamos predecir quien ganaría, debemos asumir que los jugadores son dados en orden, por ejemplo, que $N$ se registra en la comlumna 1, y por lo tanto juega con piedras negras, y que M se registra en la columna 2. Así basta aplicar enc1 a N y enc2 a M para después hacer la predicción de quién ganaría.\n",
    "\n",
    "En la siguiente celda llevamos a cabo la codificación descrita. Obtenemos ya codificados a:\n",
    "train_features, train_responses\n",
    "test_features, test_responses"
   ]
  },
  {
   "cell_type": "code",
   "execution_count": 5,
   "metadata": {},
   "outputs": [],
   "source": [
    "from sklearn.preprocessing import OneHotEncoder\n",
    "# Codificador para la columna 1\n",
    "enc1 = OneHotEncoder(categories = 'auto')\n",
    "enc1.fit(np.concatenate((train_data[0:,1], test_data[0:,1])).reshape(-1,1))\n",
    "\n",
    "# One-hot-encoding para la columna 1 de los datos de entrenamiento y de validación\n",
    "train_col1 = enc1.transform(train_data[0:,1].reshape(-1,1)).toarray()\n",
    "test_col1 = enc1.transform(test_data[0:,1].reshape(-1,1)).toarray()\n",
    "\n",
    "# Codificador para la columna 2\n",
    "enc2 = OneHotEncoder(categories = 'auto') \n",
    "enc2.fit(np.concatenate((train_data[0:,2], test_data[0:,2])).reshape(-1,1))\n",
    "\n",
    "# One-hot-encoding para la columna 2 de los datos de entrenamiento y de validación\n",
    "train_col2 = enc2.transform(train_data[0:,2].reshape(-1,1)).toarray()\n",
    "test_col2 = enc2.transform(test_data[0:,2].reshape(-1,1)).toarray()\n",
    "\n",
    "# El conjunto completo de features para entrenar los clasificadores\n",
    "train_features = np.concatenate((train_data[0:,0].reshape(-1,1), np.concatenate((train_col1,train_col2), axis = 1)), axis =1)\n",
    "test_features = np.concatenate((test_data[0:,0].reshape(-1,1), np.concatenate((test_col1,test_col2), axis = 1)), axis =1)\n",
    "\n",
    "# Responses, no deben ser codificadas\n",
    "train_responses = train_data[0:,-1]\n",
    "test_responses = test_data[0:,-1]"
   ]
  },
  {
   "cell_type": "markdown",
   "metadata": {},
   "source": [
    "## 1. Entrenamiento de un clasificador bayesiano ingenuo\n",
    "\n",
    "Ya que aplicamos la codificación no hace falta construir un clasificador bayesiano ingenuo que suponga una distribución categórica de los atributos. Podemos entrenar un clasificador bayesiano del tipo multinomial, y esto haremos. \n",
    "\n",
    "A continuación entrenamos el clasificador MultinomialNB disponible en scikit-learn. También presentamos los scores de dicho clasificador sobre los conjuntos de entrenamiento y validación."
   ]
  },
  {
   "cell_type": "code",
   "execution_count": 6,
   "metadata": {},
   "outputs": [
    {
     "name": "stdout",
     "output_type": "stream",
     "text": [
      "0.8495297805642633\n",
      "0.7217391304347827\n"
     ]
    }
   ],
   "source": [
    "# Training an Multinomial Naive Bayes model\n",
    "from sklearn.naive_bayes import MultinomialNB\n",
    "\n",
    "multinomial_classifier = MultinomialNB()\n",
    "multinomial_classifier.fit(train_features, train_responses)\n",
    "print(multinomial_classifier.score(train_features, train_responses))\n",
    "print(multinomial_classifier.score(test_features, test_responses))"
   ]
  },
  {
   "cell_type": "markdown",
   "metadata": {},
   "source": [
    "Así, el clasificador MultinomialNB tiene un 84% de aciertos sobre el conjunto de entrenamiento y 72% de aciertos sobre el conjunto validación. \n",
    "\n",
    "En la siguiente celda calculalos el área bajo la curva ROC y hacemos otros calculos para graficar más tarde las Curvas ROC y de precisión-exhaustividad para MultinomialNB."
   ]
  },
  {
   "cell_type": "code",
   "execution_count": 7,
   "metadata": {},
   "outputs": [
    {
     "name": "stdout",
     "output_type": "stream",
     "text": [
      "El área bajo la curva ROC para logistic_regression es = 0.7104582409460458\n"
     ]
    }
   ],
   "source": [
    "# Probabilidades predichas por MultinomialNB para el conjunto de validación\n",
    "predicted_game_nb = multinomial_classifier.predict_proba(test_features)\n",
    "\n",
    "# Calculo de las proporciones de falsos-positivos y verdaderos-positivos y del área bajo la curva\n",
    "fpr_game_nb, tpr_game_nb, _ = metrics.roc_curve(test_responses,  predicted_game_nb[0:,1])\n",
    "auc_game_nb = metrics.roc_auc_score(test_responses, predicted_game_nb[0:,1])\n",
    "\n",
    "print(\"El área bajo la curva ROC para logistic_regression es =\", auc_game_nb)"
   ]
  },
  {
   "cell_type": "markdown",
   "metadata": {},
   "source": [
    "### Generación de nuevas partidas\n",
    "Como el clasificador bayesiano puede regresar los parámetros de las distribuciones de los atributos, podemos generar muestras de partidas que sigan dichas distribuciones. El vector params_estimated contiene los parámetros de las distribuciones de  los atributos. Es un vector de 246 entradas pues nuestra codificación nos género un total de 245 diferentes vectores de 0's y 1's, y hay un coeficiente por cada uno de ellos. La entrada faltante es el intercepto (bias) del modelo. "
   ]
  },
  {
   "cell_type": "code",
   "execution_count": 8,
   "metadata": {},
   "outputs": [
    {
     "name": "stdout",
     "output_type": "stream",
     "text": [
      "246\n",
      "[-0.64719729 -1.49076162 -5.22843124 -6.6147256  -5.51611331 -6.6147256\n",
      " -5.51611331 -6.6147256  -5.51611331 -4.31214051 -6.6147256  -5.92157842\n",
      " -5.92157842 -4.82296613 -5.92157842 -5.92157842 -5.92157842 -5.51611331\n",
      " -5.51611331 -5.92157842 -5.92157842 -5.00528769 -6.6147256  -5.92157842\n",
      " -4.82296613 -5.22843124 -5.92157842 -6.6147256  -4.53528406 -6.6147256\n",
      " -6.6147256  -5.92157842 -6.6147256  -4.04977624 -6.6147256  -5.51611331\n",
      " -5.92157842 -5.92157842 -5.92157842 -6.6147256  -6.6147256  -5.92157842\n",
      " -5.51611331 -5.51611331 -6.6147256  -6.6147256  -6.6147256  -6.6147256\n",
      " -5.92157842 -5.92157842 -5.51611331 -5.92157842 -5.92157842 -6.6147256\n",
      " -6.6147256  -5.92157842 -5.92157842 -5.00528769 -6.6147256  -5.92157842\n",
      " -5.51611331 -5.92157842 -5.51611331 -5.51611331 -6.6147256  -5.92157842\n",
      " -5.51611331 -5.51611331 -6.6147256  -5.51611331 -6.6147256  -5.51611331\n",
      " -5.51611331 -5.92157842 -5.51611331 -5.92157842 -6.6147256  -6.6147256\n",
      " -5.92157842 -5.00528769 -5.92157842 -6.6147256  -6.6147256  -6.6147256\n",
      " -6.6147256  -5.92157842 -5.51611331 -6.6147256  -6.6147256  -5.92157842\n",
      " -5.92157842 -5.92157842 -5.00528769 -5.22843124 -5.92157842 -5.92157842\n",
      " -6.6147256  -6.6147256  -5.51611331 -6.6147256  -5.92157842 -6.6147256\n",
      " -6.6147256  -6.6147256  -5.51611331 -5.92157842 -6.6147256  -5.92157842\n",
      " -5.92157842 -6.6147256  -5.51611331 -6.6147256  -5.92157842 -5.22843124\n",
      " -6.6147256  -5.00528769 -5.51611331 -5.51611331 -5.51611331 -6.6147256\n",
      " -6.6147256  -5.92157842 -5.92157842 -5.51611331 -5.92157842 -5.92157842\n",
      " -5.22843124 -6.6147256  -5.92157842 -4.21683033 -4.82296613 -5.92157842\n",
      " -5.00528769 -5.51611331 -6.6147256  -4.41750102 -5.51611331 -6.6147256\n",
      " -5.92157842 -5.51611331 -3.97566827 -5.92157842 -6.6147256  -6.6147256\n",
      " -5.92157842 -5.92157842 -5.51611331 -6.6147256  -5.51611331 -6.6147256\n",
      " -5.92157842 -5.51611331 -5.22843124 -5.92157842 -6.6147256  -4.82296613\n",
      " -6.6147256  -5.51611331 -6.6147256  -6.6147256  -5.92157842 -3.84213688\n",
      " -6.6147256  -6.6147256  -6.6147256  -6.6147256  -5.92157842 -5.92157842\n",
      " -6.6147256  -5.92157842 -6.6147256  -5.92157842 -5.92157842 -6.6147256\n",
      " -5.51611331 -6.6147256  -5.51611331 -5.92157842 -6.6147256  -5.92157842\n",
      " -6.6147256  -6.6147256  -5.92157842 -5.92157842 -5.92157842 -5.92157842\n",
      " -5.51611331 -6.6147256  -5.51611331 -6.6147256  -6.6147256  -5.92157842\n",
      " -6.6147256  -5.92157842 -6.6147256  -5.92157842 -6.6147256  -6.6147256\n",
      " -5.51611331 -5.51611331 -6.6147256  -5.51611331 -5.92157842 -6.6147256\n",
      " -5.00528769 -5.92157842 -5.92157842 -6.6147256  -5.22843124 -6.6147256\n",
      " -5.92157842 -6.6147256  -4.31214051 -5.92157842 -6.6147256  -5.92157842\n",
      " -5.92157842 -6.6147256  -5.51611331 -6.6147256  -6.6147256  -5.92157842\n",
      " -4.66881545 -6.6147256  -5.22843124 -6.6147256  -5.92157842 -5.92157842\n",
      " -5.22843124 -6.6147256  -5.92157842 -6.6147256  -6.6147256  -5.92157842\n",
      " -6.6147256  -6.6147256  -5.51611331 -5.51611331 -5.92157842 -5.92157842\n",
      " -6.6147256  -5.92157842 -5.51611331 -5.51611331 -6.6147256  -6.6147256 ]\n"
     ]
    }
   ],
   "source": [
    "params_estimated = np.insert(multinomial_classifier.coef_, 0 ,multinomial_classifier.intercept_)\n",
    "print(len(params_estimated))\n",
    "print(params_estimated)\n",
    "    "
   ]
  },
  {
   "cell_type": "markdown",
   "metadata": {},
   "source": [
    "Para generar una nueva partida iniciamos con alguna etiqueta $e =$ 0 ó 1. Generar una partida consiste en generar un vector de 246 entradas, y simplemente lo hacemos entrada por entrada. En la entrada j ponemos aquel $x\\in \\{0,1\\}$ que máximize la probabilidad de que a un vector con entrada $j$ igual a $x$ le corresponda la etiqueta $e$. Observe que conociendo los parámetros de la distribución de cada entrada encontrar dicho $x$ es un problema bien determinado de optimización. De esta forma generamos una partida artificial."
   ]
  },
  {
   "cell_type": "markdown",
   "metadata": {},
   "source": [
    "## 2. Entrenamiento de un modelo con regresión logística"
   ]
  },
  {
   "cell_type": "markdown",
   "metadata": {},
   "source": [
    "Ahora entrenamos un clasificador por medio de nuestra implementación de la regresión logística. Los detalles de dicha implementación se encuentran en el archivo logisticReg.py. También presentamos los scores del modelo sobre los conjuntos de entrenamiento y validación. "
   ]
  },
  {
   "cell_type": "code",
   "execution_count": 9,
   "metadata": {},
   "outputs": [
    {
     "name": "stdout",
     "output_type": "stream",
     "text": [
      "Score sobre el conjunto de entrenamiento: 0.9247648902821317\n",
      "Score sobre el conjunto de validación: 0.6608695652173913\n"
     ]
    }
   ],
   "source": [
    "from logisticReg import logistic_regression\n",
    "logit_reg = logistic_regression()\n",
    "\n",
    "logit_reg.fit(train_features, train_responses, 0)\n",
    "print(\"Score sobre el conjunto de entrenamiento:\", logit_reg.score(train_features, train_responses))\n",
    "print(\"Score sobre el conjunto de validación:\", logit_reg.score(test_features, test_responses))"
   ]
  },
  {
   "cell_type": "markdown",
   "metadata": {},
   "source": [
    "Los parámetros obtenidos mediante máxima verosimilitud son los siguientes (el intercepto, o bias, está incluido como la primera entrada del arreglo pues recuerde que entrenamos con la matriz de datos aumentada por una columna de unos). "
   ]
  },
  {
   "cell_type": "code",
   "execution_count": 10,
   "metadata": {},
   "outputs": [
    {
     "name": "stdout",
     "output_type": "stream",
     "text": [
      "[-0.82370918  4.26201105 -1.86325421  3.65690606 -7.51141193  1.35441248\n",
      " -7.36682667 -3.29746051 -0.78256196  0.          3.09420667 -1.02158336\n",
      " -0.06335322  0.06373622  0.77562925  6.71550983 -6.08278186  7.17142017\n",
      " -3.72706357  2.69700321  4.65433487 -5.6160268  -6.3177835   4.44961762\n",
      "  3.39365971  1.08847809 -1.99596555  4.8694329  -3.49972001 -2.49367528\n",
      " -4.72261025 -1.69268318 -2.59102129 -7.05528625  4.14765384  1.86360455\n",
      "  2.69700321  2.41801865 -7.92487967 -0.88463118  0.29895388  0.99820356\n",
      "  5.31933928  0.         -1.71345388 -2.16187079 -3.49686352  3.69446324\n",
      "  3.81635459 -0.81692389  0.21561414 -0.89840891 -1.99596555 -1.91534609\n",
      "  3.24397675  0.67211868 -0.52416919 -2.49367528  2.85712336 -0.96704982\n",
      "  3.15961244  6.15010146  3.2596856  -5.92263781 -2.08863129  2.23760222\n",
      "  2.02230354 -1.83810245 -2.38776055 -4.19048039 -0.05369278  4.05897042\n",
      "  2.69700321  2.614318    4.03952562 -5.0510957  -3.49686352 -0.69808779\n",
      "  4.55124066  2.69700321 -3.49686352 -4.86171727 -1.91534609 -7.23466664\n",
      " -1.66082077  4.29340742 -3.33128083 -1.99596555  2.72548878 -1.60478511\n",
      "  3.02710047  2.84053534  2.40583748  4.03952562  5.57769791 -2.49367528\n",
      " -2.49367528  1.98665306 -3.53599885  1.77595204 -3.00091898 -2.29326788\n",
      " -3.42399674  6.88284305 -6.01193587 -2.04514115  2.22233384  1.86232468\n",
      " -2.49894269  4.0693441  -4.39797865 -1.47289459  6.78610007 -5.8659576\n",
      " -2.36567038  0.07913102  5.69294241  3.46783547 -6.48153781 -4.27678228\n",
      "  2.69700321  1.93392298  2.87249279  2.69700321  2.11647349  7.12966949\n",
      " -1.99596555  2.69700321  3.14639121  5.47730558  4.73228235 -0.81176335\n",
      "  3.74971223 -3.70460138  1.9506463  -1.13033052  0.          1.78276518\n",
      "  1.66423535  1.30799995  1.55448778 -2.49367528 -3.91264138  2.69700321\n",
      " -3.31235418  9.08739685 -2.91642151 -0.43974632 -4.41979608 -2.58281259\n",
      "  3.82467984  4.69985333  2.55904574 -9.13659287  9.6464492  -1.43688376\n",
      "  5.59044421 -2.49367528 -3.01336029  2.69700321  4.56822898  0.\n",
      " -7.4709432  -4.16646359 -1.1963204  -4.11844063  1.85390449 -3.49686352\n",
      "  2.02420354 -1.69334643  0.74556533  3.4523062  -1.99596555  2.32143093\n",
      " -2.26702523  6.78441174  2.03467205 -6.73716748  8.46002781 -2.49367528\n",
      " -2.49367528  2.69700321 -0.71416906  8.76341252 -1.83518375  5.09704611\n",
      " -3.49686352  1.57278782 -1.790928   -3.10771954  1.36014901 -3.83633187\n",
      "  2.29841403 -3.49686352  2.42915248 -1.99596555  0.         -2.45593587\n",
      "  5.64867752 -4.23802494  2.67900687  2.69700321 -2.14797293  4.21705374\n",
      "  3.17741456  2.85043516 -1.98866656 -3.14963864 -5.11101339 -1.59940562\n",
      " -2.10638481  0.46720053 -0.61780931 -1.04027673  3.36035514 -1.64654871\n",
      " -3.08903453 -3.86541227 -2.5893965   0.          1.42917465  4.10624042\n",
      " -1.66921806  3.5309174  -2.63679457  0.80822273  2.55904574  0.36056046\n",
      " -5.79125859  2.19770918 -3.83069219 -3.67666105  2.69700321  0.\n",
      " -6.49753355  2.20480547  0.07913102  2.27939323 -0.90815789 -3.35447067\n",
      "  2.03467205 -3.54106924  2.61427024 -2.28037077 -6.11314353]\n"
     ]
    }
   ],
   "source": [
    "print(logit_reg.coef())"
   ]
  },
  {
   "cell_type": "markdown",
   "metadata": {},
   "source": [
    "Los siguientes son calculos necesarios para graficar las curvas ROC y de precisión-exhaustividad para logistic_regression. También calculamos el área bajo la curva ROC."
   ]
  },
  {
   "cell_type": "code",
   "execution_count": 11,
   "metadata": {},
   "outputs": [
    {
     "name": "stdout",
     "output_type": "stream",
     "text": [
      "El área bajo la curva ROC para logistic_regression es = 0.7015890613451589\n"
     ]
    }
   ],
   "source": [
    "# Probabilidades predichas por logistic_regression para el conjunto de validación\n",
    "predicted_game_logit = logit_reg.decision(test_features)\n",
    "\n",
    "# Calculo de las proporciones de falsos-positivos y verdaderos-positivos y del área bajo la curva\n",
    "fpr_game_logit, tpr_game_logit, _ = metrics.roc_curve(test_responses,  predicted_game_logit)\n",
    "auc_game_logit = metrics.roc_auc_score(test_responses, predicted_game_logit)\n",
    "\n",
    "print(\"El área bajo la curva ROC para logistic_regression es =\", auc_game_logit)"
   ]
  },
  {
   "cell_type": "markdown",
   "metadata": {},
   "source": [
    "Ahora graficamos las curvas ROC para los dos clasificadores."
   ]
  },
  {
   "cell_type": "code",
   "execution_count": 13,
   "metadata": {},
   "outputs": [
    {
     "data": {
      "image/png": "[encoded data removed]",
      "text/plain": [
       "<Figure size 648x360 with 1 Axes>"
      ]
     },
     "metadata": {
      "needs_background": "light"
     },
     "output_type": "display_data"
    }
   ],
   "source": [
    "# Curvas ROC\n",
    "plt.figure(figsize=(9,5))\n",
    "plt.title('Curvas ROC')\n",
    "\n",
    "plt.plot(fpr_game_nb, tpr_game_nb, color ='navy', label=\"MultinomialNB, auc ~ %0.4f\" % auc_game_nb)\n",
    "plt.plot(fpr_game_logit, tpr_game_logit, color = 'darkorange', label=\"logistic_regression, auc ~ %0.4f\" % auc_game_logit)\n",
    "# Estilo\n",
    "plt.plot([0, 1], [0, 1], color='lightblue', linestyle='--')\n",
    "plt.xlabel('Tasa de Falsos Positivos')\n",
    "plt.ylabel('Tasa de Verdaderos Positivos')\n",
    "plt.xlim([0.0, 1.0])\n",
    "plt.ylim([0.0, 1.05])\n",
    "plt.legend(loc =4)\n",
    "plt.grid(True)\n",
    "plt.show()"
   ]
  },
  {
   "cell_type": "markdown",
   "metadata": {},
   "source": [
    "Para terminar este inciso, ahora presentamos las gráficas de precisión-exhaustividad para MultinomialNB y logistic_regression. "
   ]
  },
  {
   "cell_type": "code",
   "execution_count": 14,
   "metadata": {},
   "outputs": [
    {
     "data": {
      "text/plain": [
       "Text(0, 0.5, 'Precisión')"
      ]
     },
     "execution_count": 14,
     "metadata": {},
     "output_type": "execute_result"
    },
    {
     "data": {
      "image/png": "[encoded data removed]",
      "text/plain": [
       "<Figure size 1296x432 with 2 Axes>"
      ]
     },
     "metadata": {
      "needs_background": "light"
     },
     "output_type": "display_data"
    }
   ],
   "source": [
    "# Precisión-exhaustividad\n",
    "from sklearn.metrics import precision_recall_curve\n",
    "from sklearn.utils.fixes import signature\n",
    "\n",
    "gs = plt.GridSpec(1,2)\n",
    "fig = plt.figure(figsize=(18,6))\n",
    "\n",
    "# Precisión-Exhaustividad para MultinomialNB\n",
    "precision_game_nb, recall_game_nb, _ = precision_recall_curve(test_responses, predicted_game_nb[0:,1])\n",
    "\n",
    "step_kwargs = ({'step': 'post'}\n",
    "               if 'step' in signature(plt.fill_between).parameters\n",
    "               else {})\n",
    "fig.add_subplot(gs[0,0]).step(recall_game_nb, precision_game_nb, color='darkorange', alpha=0.8,\n",
    "         where='post')\n",
    "plt.title(\"Curva Precisión-exhaustividad para MultinomialNB\")\n",
    "plt.xlabel('Exhaustividad')\n",
    "plt.ylabel('Precisión')\n",
    "\n",
    "\n",
    "# Precisión-Exhaustividad para logistic_regression\n",
    "precision_game_logit, recall_game_logit, _ = precision_recall_curve(test_responses, predicted_game_logit)\n",
    "\n",
    "step_kwargs = ({'step': 'post'}\n",
    "               if 'step' in signature(plt.fill_between).parameters\n",
    "               else {})\n",
    "fig.add_subplot(gs[0,1]).step(recall_game_logit, precision_game_logit, color='navy', alpha=0.8,\n",
    "         where='post')\n",
    "plt.title(\"Curva Precisión-exhaustividad para logistic_regression\")\n",
    "plt.xlabel('Exhaustividad')\n",
    "plt.ylabel('Precisión')"
   ]
  },
  {
   "cell_type": "markdown",
   "metadata": {},
   "source": [
    "## 3. Continuación de discusión\n",
    "Podemos notar que el rendimiendo de ambos clasificadores MultnomialNB y logistic_regression  es muy similar y no muy bueno. Ambos no logran buenas predicciones sobre el conjunto de validación, siendo que para ambos baja mucho el score sobre este conjunto (de 0.8495297805642633 a 0.7217391304347827 para MultinomialNB y de 0.924764890282131 a 0.6608695652173913 para logistic_regression). Cabe mencionar también que se probaron los clasificadores bayesianoes ingenuos GaussianNB y BernoulliNB y ambos mostraron un comportamiento similar. \n",
    "\n",
    "No probamos entrenar directamente, i.e. sin aplicar la codificación, un clasificador bayesiano ingenuo con atributos con distribución categórica; aunque por la naturaleza del problema no vemos que el score sobre el conjunto de validación vaya a cambiar demasiado. \n",
    "\n",
    "Las preguntas sobre qué pasaría si aplicaramos regresión lineal a los datos originales ya fueron abordadas al inicio del ejercicio. \n",
    "\n",
    "Finalmente, es díficil decidir por alguno de los dos clasificadores ya que el rendimiento fue muy similar entre los dos. En el apsecto teórico, como opinión personal, el clasifcador bayesiano es más transparente ya que es capaz de trabajar directamente con los datos categóricos. "
   ]
  }
 ],
 "metadata": {
  "kernelspec": {
   "display_name": "Python 3",
   "language": "python",
   "name": "python3"
  },
  "language_info": {
   "codemirror_mode": {
    "name": "ipython",
    "version": 3
   },
   "file_extension": ".py",
   "mimetype": "text/x-python",
   "name": "python",
   "nbconvert_exporter": "python",
   "pygments_lexer": "ipython3",
   "version": "3.7.1"
  }
 },
 "nbformat": 4,
 "nbformat_minor": 2
}
