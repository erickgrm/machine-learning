{
 "cells": [
  {
   "cell_type": "code",
   "execution_count": 153,
   "metadata": {},
   "outputs": [],
   "source": [
    "import pandas as pd\n",
    "import numpy as np"
   ]
  },
  {
   "cell_type": "code",
   "execution_count": 154,
   "metadata": {},
   "outputs": [
    {
     "data": {
      "text/plain": [
       "Index(['P1', 'P2', 'P3', 'P4', 'P5', 'P6', 'P7', 'P8', 'P9', 'P10', 'P11',\n",
       "       'P12', 'P13'],\n",
       "      dtype='object')"
      ]
     },
     "execution_count": 154,
     "metadata": {},
     "output_type": "execute_result"
    }
   ],
   "source": [
    "# Datos de entrenamiento\n",
    "data = np.array([\n",
    "            ['','Pink Floyd','The Beatles','R.E.M.','Nirvana','Queen','Oasis','Class'],\n",
    "            ['P1', 1, 0, 0, 1, 1, 1, 'J'],\n",
    "            ['P2', 1, 1, 0, 1, 1, 0, 'J'],\n",
    "            ['P3', 1, 1, 1, 0, 0, 1, 'J'],\n",
    "            ['P4', 1, 0, 1, 0, 0, 1, 'J'],\n",
    "            ['P5', 1, 0, 0, 0, 1, 0, 'J'],\n",
    "            ['P6', 1, 1, 1, 0, 0, 0, 'J'],\n",
    "            ['P7', 1, 1, 0, 0, 1, 1, 'A'],\n",
    "            ['P8', 1, 1, 1, 0, 0, 1, 'A'],\n",
    "            ['P9', 1, 1, 1, 1, 1, 0, 'A'],\n",
    "            ['P10',1, 1, 1, 0, 1, 0, 'A'],\n",
    "            ['P11',1, 1, 1, 0, 1, 1, 'A'],\n",
    "            ['P12',1, 1, 0, 1, 1, 0, 'A'],\n",
    "            ['P13',1, 1, 0, 1, 0, 0, 'A']])\n",
    "    \n",
    "dF=pd.DataFrame(data=data[1:,1:],\n",
    "                  index=data[1:,0],\n",
    "                  columns=data[0,1:])\n",
    "dF\n",
    "dF.index"
   ]
  },
  {
   "cell_type": "code",
   "execution_count": 172,
   "metadata": {},
   "outputs": [
    {
     "name": "stdout",
     "output_type": "stream",
     "text": [
      "13\n"
     ]
    }
   ],
   "source": [
    "# Cálculo de P(band|clase) \n",
    "def prob_of_band_given_class(band,cl):\n",
    "    Nc=0\n",
    "    nc_band=0\n",
    "    for k in dF.index:\n",
    "        if dF.loc[k]['Class'] == cl:\n",
    "            Nc += 1\n",
    "            if dF.loc[k][band] == '1':\n",
    "                nc_band += 1\n",
    "    return nc_band/Nc\n",
    "\n",
    "# Cálculo de P(clase)\n",
    "def prob_of_class(cl):\n",
    "    counter=0\n",
    "    for k in dF.index:\n",
    "        if dF.loc[k]['Class'] == cl:\n",
    "            counter +=1\n",
    "    return counter/len(dF.index)\n",
    "\n",
    "print(len(dF.index))\n",
    "prob_of_class('A')\n",
    "\n",
    "# Cálculo de P(clase|persona) con MVE, la probabilidad de que una persona dada pertenezca a la clase\n",
    "def mve_prob_of_being_of_class(cl,person):\n",
    "    p=0\n",
    "    p= prob_of_class(cl)\n",
    "    for k in dF.columns[:-1]:\n",
    "        if person[k] == '1':\n",
    "            p *= prob_of_band_given_class(k,cl)\n",
    "        else:\n",
    "            p *= (1-prob_of_band_given_class(k,cl))\n",
    "    return p\n"
   ]
  },
  {
   "cell_type": "code",
   "execution_count": 173,
   "metadata": {},
   "outputs": [
    {
     "name": "stdout",
     "output_type": "stream",
     "text": [
      "P1 J J\n",
      "P2 A J\n",
      "P3 A J\n",
      "P4 J J\n",
      "P5 J J\n",
      "P6 A J\n",
      "P7 A A\n",
      "P8 A A\n",
      "P9 A A\n",
      "P10 A A\n",
      "P11 A A\n",
      "P12 A A\n",
      "P13 A A\n"
     ]
    }
   ],
   "source": [
    "# Clasificador bayesiano ingenuo MEV. Clasifica un individuo como 'A' (adulto) o 'J' (joven)\n",
    "def map_nb_classifier1(person):\n",
    "    if mve_prob_of_being_of_class('A',person) < mve_prob_of_being_of_class('J',person):\n",
    "        return 'J'\n",
    "    if map_prob_of_being_of_class('J',person) < mve_prob_of_being_of_class('A',person):\n",
    "        return 'A'\n",
    "    #else:\n",
    "     #   if np.random(0,1) < 0.5:\n",
    "      #      return 'A'\n",
    "       # else:\n",
    "        #    return 'J'\n",
    "        \n",
    "for k in dF.index:\n",
    "    print(k,mve_nb_classifier1(dF.loc[k]),dF.loc[k]['Class'])\n",
    "        \n",
    "# Testeo sobre conjunto de entrenamiento\n",
    "#for l in dF.index:\n",
    "#    for k in dF.columns:\n",
    "#        personl = {k:dF.loc[l][k] for k in dF.columns}\n",
    "#    print(l,' ',mve_nb_classifier1(personl),dF.loc[l]['Class'])"
   ]
  },
  {
   "cell_type": "code",
   "execution_count": 174,
   "metadata": {},
   "outputs": [
    {
     "data": {
      "text/html": [
       "<div>\n",
       "<style scoped>\n",
       "    .dataframe tbody tr th:only-of-type {\n",
       "        vertical-align: middle;\n",
       "    }\n",
       "\n",
       "    .dataframe tbody tr th {\n",
       "        vertical-align: top;\n",
       "    }\n",
       "\n",
       "    .dataframe thead th {\n",
       "        text-align: right;\n",
       "    }\n",
       "</style>\n",
       "<table border=\"1\" class=\"dataframe\">\n",
       "  <thead>\n",
       "    <tr style=\"text-align: right;\">\n",
       "      <th></th>\n",
       "      <th>Pink Floyd</th>\n",
       "      <th>The Beatles</th>\n",
       "      <th>R.E.M.</th>\n",
       "      <th>Nirvana</th>\n",
       "      <th>Queen</th>\n",
       "      <th>Oasis</th>\n",
       "    </tr>\n",
       "  </thead>\n",
       "  <tbody>\n",
       "    <tr>\n",
       "      <th>x1</th>\n",
       "      <td>1</td>\n",
       "      <td>1</td>\n",
       "      <td>0</td>\n",
       "      <td>1</td>\n",
       "      <td>1</td>\n",
       "      <td>0</td>\n",
       "    </tr>\n",
       "    <tr>\n",
       "      <th>x2</th>\n",
       "      <td>1</td>\n",
       "      <td>0</td>\n",
       "      <td>1</td>\n",
       "      <td>1</td>\n",
       "      <td>1</td>\n",
       "      <td>1</td>\n",
       "    </tr>\n",
       "    <tr>\n",
       "      <th>x3</th>\n",
       "      <td>1</td>\n",
       "      <td>1</td>\n",
       "      <td>0</td>\n",
       "      <td>0</td>\n",
       "      <td>0</td>\n",
       "      <td>0</td>\n",
       "    </tr>\n",
       "    <tr>\n",
       "      <th>x4</th>\n",
       "      <td>1</td>\n",
       "      <td>1</td>\n",
       "      <td>1</td>\n",
       "      <td>1</td>\n",
       "      <td>1</td>\n",
       "      <td>1</td>\n",
       "    </tr>\n",
       "    <tr>\n",
       "      <th>x5</th>\n",
       "      <td>0</td>\n",
       "      <td>1</td>\n",
       "      <td>1</td>\n",
       "      <td>1</td>\n",
       "      <td>1</td>\n",
       "      <td>1</td>\n",
       "    </tr>\n",
       "  </tbody>\n",
       "</table>\n",
       "</div>"
      ],
      "text/plain": [
       "   Pink Floyd The Beatles R.E.M. Nirvana Queen Oasis\n",
       "x1          1           1      0       1     1     0\n",
       "x2          1           0      1       1     1     1\n",
       "x3          1           1      0       0     0     0\n",
       "x4          1           1      1       1     1     1\n",
       "x5          0           1      1       1     1     1"
      ]
     },
     "execution_count": 174,
     "metadata": {},
     "output_type": "execute_result"
    }
   ],
   "source": [
    "# Datos para predicciones\n",
    "tdata = np.array([    \n",
    "        ['','Pink Floyd','The Beatles', 'R.E.M.','Nirvana','Queen','Oasis'],\n",
    "        ['x1',1, 1, 0, 1, 1, 0],\n",
    "        ['x2',1, 0, 1, 1, 1, 1],\n",
    "        ['x3',1, 1, 0, 0, 0, 0],\n",
    "        ['x4',1, 1, 1, 1, 1, 1],\n",
    "        ['x5',0, 1, 1, 1, 1, 1]])\n",
    "\n",
    "testdF=pd.DataFrame(data=tdata[1:,1:],\n",
    "                  index=tdata[1:,0],\n",
    "                  columns=tdata[0,1:])\n",
    "testdF\n",
    "\n",
    "#for l in testdF.index:\n",
    " #   testl = {k:testdF.loc[l][k] for k in testdF.columns[0:]}\n",
    "  #  print(l,testl,mve_nb_classifier1(testl))\n",
    "\n",
    "#print(prob_of_being_of_class('A',testdF.loc['x4']),\n",
    "#prob_of_being_of_class('J',testdF.loc['x4']))"
   ]
  },
  {
   "cell_type": "code",
   "execution_count": 175,
   "metadata": {},
   "outputs": [
    {
     "name": "stdout",
     "output_type": "stream",
     "text": [
      "A\n",
      "J\n",
      "A\n",
      "A\n",
      "None\n"
     ]
    }
   ],
   "source": [
    "# Predicciones\n",
    "for k in testdF.index:\n",
    "    print(mve_nb_classifier1(testdF.loc[k]))"
   ]
  },
  {
   "cell_type": "code",
   "execution_count": 177,
   "metadata": {},
   "outputs": [],
   "source": [
    "# Suponemos que P(C) tiene distribución Bernoulli B(q). Buscamos q.\n",
    "\n",
    "def qmap(cl)\n",
    "    Nc=0\n",
    "    nc_band=0\n",
    "    for k in dF.index:\n",
    "        if dF.loc[k]['Class'] == cl:\n",
    "            Nc += 1\n",
    "            if dF.loc[k][band] == '1':\n",
    "                nc_band += 1\n",
    "    p_att = (nc_band+2-1)/(Nc+6-2)\n",
    "    p_class = (Nc+2-1)/(len(dF.index)+Nc+2-2)\n",
    "\n",
    "# Cálculo de P(clase|persona) bajo MAP, la probabilidad de que una persona dada pertenezca a la clase\n",
    "def map_prob_of_being_of_class(cl,person):\n",
    "    \n",
    "    \n",
    "    p = prob_of_class(cl)\n",
    "    for k in dF.columns[:-1]:\n",
    "        if person[k] == '1':\n",
    "            p *= prob_of_band_given_class(k,cl)\n",
    "        else:\n",
    "            p *= (1-prob_of_band_given_class(k,cl))\n",
    "    return p\n"
   ]
  }
 ],
 "metadata": {
  "kernelspec": {
   "display_name": "Python 3",
   "language": "python",
   "name": "python3"
  },
  "language_info": {
   "codemirror_mode": {
    "name": "ipython",
    "version": 3
   },
   "file_extension": ".py",
   "mimetype": "text/x-python",
   "name": "python",
   "nbconvert_exporter": "python",
   "pygments_lexer": "ipython3",
   "version": "3.7.1"
  }
 },
 "nbformat": 4,
 "nbformat_minor": 2
}
