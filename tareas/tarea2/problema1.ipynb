{
 "cells": [
  {
   "cell_type": "code",
   "execution_count": 2,
   "metadata": {},
   "outputs": [],
   "source": [
    "import pandas as pd\n",
    "import numpy as np"
   ]
  },
  {
   "cell_type": "code",
   "execution_count": 9,
   "metadata": {},
   "outputs": [
    {
     "name": "stdout",
     "output_type": "stream",
     "text": [
      "Pink Floyd\n",
      "The Beatles\n",
      "R.E.M\n",
      "Nirvana\n",
      "Queen\n",
      "Oasis\n"
     ]
    },
    {
     "data": {
      "text/html": [
       "<div>\n",
       "<style scoped>\n",
       "    .dataframe tbody tr th:only-of-type {\n",
       "        vertical-align: middle;\n",
       "    }\n",
       "\n",
       "    .dataframe tbody tr th {\n",
       "        vertical-align: top;\n",
       "    }\n",
       "\n",
       "    .dataframe thead th {\n",
       "        text-align: right;\n",
       "    }\n",
       "</style>\n",
       "<table border=\"1\" class=\"dataframe\">\n",
       "  <thead>\n",
       "    <tr style=\"text-align: right;\">\n",
       "      <th></th>\n",
       "      <th>P0</th>\n",
       "      <th>P1</th>\n",
       "      <th>P2</th>\n",
       "      <th>P3</th>\n",
       "      <th>P4</th>\n",
       "      <th>P5</th>\n",
       "      <th>P6</th>\n",
       "      <th>P7</th>\n",
       "      <th>P8</th>\n",
       "      <th>P9</th>\n",
       "      <th>P10</th>\n",
       "      <th>P11</th>\n",
       "      <th>P12</th>\n",
       "    </tr>\n",
       "  </thead>\n",
       "  <tbody>\n",
       "    <tr>\n",
       "      <th>Pink Floyd</th>\n",
       "      <td>1</td>\n",
       "      <td>1</td>\n",
       "      <td>1</td>\n",
       "      <td>1</td>\n",
       "      <td>1</td>\n",
       "      <td>1</td>\n",
       "      <td>1</td>\n",
       "      <td>1</td>\n",
       "      <td>1</td>\n",
       "      <td>1</td>\n",
       "      <td>1</td>\n",
       "      <td>1</td>\n",
       "      <td>1</td>\n",
       "    </tr>\n",
       "    <tr>\n",
       "      <th>The Beatles</th>\n",
       "      <td>0</td>\n",
       "      <td>1</td>\n",
       "      <td>1</td>\n",
       "      <td>0</td>\n",
       "      <td>0</td>\n",
       "      <td>1</td>\n",
       "      <td>1</td>\n",
       "      <td>1</td>\n",
       "      <td>1</td>\n",
       "      <td>1</td>\n",
       "      <td>1</td>\n",
       "      <td>1</td>\n",
       "      <td>1</td>\n",
       "    </tr>\n",
       "    <tr>\n",
       "      <th>R.E.M</th>\n",
       "      <td>0</td>\n",
       "      <td>0</td>\n",
       "      <td>1</td>\n",
       "      <td>1</td>\n",
       "      <td>0</td>\n",
       "      <td>1</td>\n",
       "      <td>0</td>\n",
       "      <td>1</td>\n",
       "      <td>1</td>\n",
       "      <td>1</td>\n",
       "      <td>1</td>\n",
       "      <td>0</td>\n",
       "      <td>0</td>\n",
       "    </tr>\n",
       "    <tr>\n",
       "      <th>Nirvana</th>\n",
       "      <td>1</td>\n",
       "      <td>1</td>\n",
       "      <td>0</td>\n",
       "      <td>0</td>\n",
       "      <td>0</td>\n",
       "      <td>0</td>\n",
       "      <td>0</td>\n",
       "      <td>0</td>\n",
       "      <td>1</td>\n",
       "      <td>0</td>\n",
       "      <td>0</td>\n",
       "      <td>1</td>\n",
       "      <td>1</td>\n",
       "    </tr>\n",
       "    <tr>\n",
       "      <th>Queen</th>\n",
       "      <td>1</td>\n",
       "      <td>1</td>\n",
       "      <td>0</td>\n",
       "      <td>0</td>\n",
       "      <td>1</td>\n",
       "      <td>0</td>\n",
       "      <td>1</td>\n",
       "      <td>0</td>\n",
       "      <td>1</td>\n",
       "      <td>1</td>\n",
       "      <td>1</td>\n",
       "      <td>1</td>\n",
       "      <td>0</td>\n",
       "    </tr>\n",
       "    <tr>\n",
       "      <th>Oasis</th>\n",
       "      <td>1</td>\n",
       "      <td>0</td>\n",
       "      <td>1</td>\n",
       "      <td>1</td>\n",
       "      <td>0</td>\n",
       "      <td>0</td>\n",
       "      <td>1</td>\n",
       "      <td>1</td>\n",
       "      <td>0</td>\n",
       "      <td>0</td>\n",
       "      <td>1</td>\n",
       "      <td>0</td>\n",
       "      <td>0</td>\n",
       "    </tr>\n",
       "    <tr>\n",
       "      <th>Class</th>\n",
       "      <td>J</td>\n",
       "      <td>J</td>\n",
       "      <td>J</td>\n",
       "      <td>J</td>\n",
       "      <td>J</td>\n",
       "      <td>J</td>\n",
       "      <td>A</td>\n",
       "      <td>A</td>\n",
       "      <td>A</td>\n",
       "      <td>A</td>\n",
       "      <td>A</td>\n",
       "      <td>A</td>\n",
       "      <td>A</td>\n",
       "    </tr>\n",
       "  </tbody>\n",
       "</table>\n",
       "</div>"
      ],
      "text/plain": [
       "            P0 P1 P2 P3 P4 P5 P6 P7 P8 P9 P10 P11 P12\n",
       "Pink Floyd   1  1  1  1  1  1  1  1  1  1   1   1   1\n",
       "The Beatles  0  1  1  0  0  1  1  1  1  1   1   1   1\n",
       "R.E.M        0  0  1  1  0  1  0  1  1  1   1   0   0\n",
       "Nirvana      1  1  0  0  0  0  0  0  1  0   0   1   1\n",
       "Queen        1  1  0  0  1  0  1  0  1  1   1   1   0\n",
       "Oasis        1  0  1  1  0  0  1  1  0  0   1   0   0\n",
       "Class        J  J  J  J  J  J  A  A  A  A   A   A   A"
      ]
     },
     "execution_count": 9,
     "metadata": {},
     "output_type": "execute_result"
    }
   ],
   "source": [
    "data = np.array([\n",
    "        ['','P0','P1','P2','P3','P4','P5','P6','P7','P8','P9','P10','P11','P12'], \n",
    "        ['Pink Floyd',1,1,1,1,1,1,1,1,1,1,1,1,1],\n",
    "        ['The Beatles',0,1,1,0,0,1,1,1,1,1,1,1,1],\n",
    "        ['R.E.M',0,0,1,1,0,1,0,1,1,1,1,0,0],\n",
    "        ['Nirvana',1,1,0,0,0,0,0,0,1,0,0,1,1],\n",
    "        ['Queen',1,1,0,0,1,0,1,0,1,1,1,1,0],\n",
    "        ['Oasis',1,0,1,1,0,0,1,1,0,0,1,0,0],\n",
    "        ['Class','J','J','J','J','J','J','A','A','A','A','A','A','A']])\n",
    "dF=pd.DataFrame(data=data[1:,1:],\n",
    "                  index=data[1:,0],\n",
    "                  columns=data[0,1:])\n",
    "dF.loc['Class']['P1']\n",
    "for k in dF.index[:-1]:\n",
    "    print(k)\n",
    "dF.loc['Queen']['P0']\n",
    "dF"
   ]
  },
  {
   "cell_type": "code",
   "execution_count": 26,
   "metadata": {},
   "outputs": [
    {
     "name": "stdout",
     "output_type": "stream",
     "text": [
      "13\n"
     ]
    },
    {
     "data": {
      "text/plain": [
       "0.009615384615384616"
      ]
     },
     "execution_count": 26,
     "metadata": {},
     "output_type": "execute_result"
    }
   ],
   "source": [
    "# Cálculo de P(band|clase) \n",
    "def prob_of_band_given_class(band,cl):\n",
    "    Nc=0\n",
    "    nc_band=0\n",
    "    for k in dF.columns:\n",
    "        if dF.loc['Class'][k] == cl:\n",
    "            Nc += 1\n",
    "            if dF.loc[band][k] == '1':\n",
    "                nc_band += 1\n",
    "    return nc_band/Nc\n",
    "\n",
    "# Cálculo de P(clase)\n",
    "def prob_of_class(cl):\n",
    "    counter=0\n",
    "    for k in dF.columns:\n",
    "        if dF.loc['Class'][k] == cl:\n",
    "            counter +=1\n",
    "    return counter/len(dF.columns)\n",
    "\n",
    "print(len(dF.columns))\n",
    "prob_of_class('A')\n",
    "\n",
    "# Cálculo de P(clase|persona), la probabilidad de que una persona dada pertenezca a la clase\n",
    "def prob_of_being_of_class(cl,person):\n",
    "    p=0\n",
    "    p= prob_of_class(cl)\n",
    "    for k in dF.index[:-1]:\n",
    "        if dF.loc[k][person] == '1':\n",
    "            p *= prob_of_band_given_class(k,cl)\n",
    "        else:\n",
    "            p *= (1-prob_of_band_given_class(k,cl))\n",
    "    return p\n",
    "\n",
    "prob_of_being_of_class('J','P12')"
   ]
  },
  {
   "cell_type": "code",
   "execution_count": 46,
   "metadata": {},
   "outputs": [
    {
     "name": "stdout",
     "output_type": "stream",
     "text": [
      "P 0   J J\n",
      "P 1   A J\n",
      "P 2   A J\n",
      "P 3   J J\n",
      "P 4   J J\n",
      "P 5   A J\n",
      "P 6   A A\n",
      "P 7   A A\n",
      "P 8   A A\n",
      "P 9   A A\n",
      "P 10   A A\n",
      "P 11   A A\n",
      "P 12   A A\n"
     ]
    }
   ],
   "source": [
    "# Clasificador bayesiano ingenuo MEV. Clasifica un individuo como 'A' (adulto) o 'J' (joven)\n",
    "def mve_nb_classifier1(person):\n",
    "    if prob_of_being_of_class('A',person) < prob_of_being_of_class('J',person):\n",
    "        return 'J'\n",
    "    if prob_of_being_of_class('J',person) < prob_of_being_of_class('A',person):\n",
    "        return 'A'\n",
    "    else:\n",
    "        if np.random(0,1) < 0.5:\n",
    "            return 'A'\n",
    "        else:\n",
    "            return 'J'\n",
    "        \n",
    "i = 0\n",
    "for k in dF.columns:\n",
    "    print('P',i,' ',mve_nb_classifier1(k),dF.loc['Class'][k])\n",
    "    i +=1"
   ]
  },
  {
   "cell_type": "code",
   "execution_count": 65,
   "metadata": {},
   "outputs": [
    {
     "data": {
      "text/plain": [
       "Pink Floyd     1\n",
       "The Beatles    1\n",
       "R.E.M.         0\n",
       "Nirvana        1\n",
       "Queen          1\n",
       "Oasis          0\n",
       "Name: x1, dtype: object"
      ]
     },
     "execution_count": 65,
     "metadata": {},
     "output_type": "execute_result"
    }
   ],
   "source": [
    "# Datos para predicciones\n",
    "tdata = np.array([\n",
    "        ['','Pink Floyd','The Beatles', 'R.E.M.','Nirvana','Queen','Oasis'],\n",
    "        ['x1',1, 1, 0, 1, 1, 0],\n",
    "        ['x2',1, 0, 1, 1, 1, 1],\n",
    "        ['x3',1, 1, 0, 0, 0, 0],\n",
    "        ['x4',1, 1, 1, 1, 1, 1],\n",
    "        ['x5',0, 1, 1, 1, 1, 1]])\n",
    "\n",
    "testdF=pd.DataFrame(data=tdata[1:,1:],\n",
    "                  index=tdata[1:,0],\n",
    "                  columns=tdata[0,1:])\n",
    "testdF.loc['x1']"
   ]
  },
  {
   "cell_type": "code",
   "execution_count": 68,
   "metadata": {},
   "outputs": [
    {
     "ename": "ValueError",
     "evalue": "The truth value of a Series is ambiguous. Use a.empty, a.bool(), a.item(), a.any() or a.all().",
     "output_type": "error",
     "traceback": [
      "\u001b[0;31m---------------------------------------------------------------------------\u001b[0m",
      "\u001b[0;31mValueError\u001b[0m                                Traceback (most recent call last)",
      "\u001b[0;32m<ipython-input-68-18d0db9c5d18>\u001b[0m in \u001b[0;36m<module>\u001b[0;34m\u001b[0m\n\u001b[1;32m      1\u001b[0m \u001b[0;31m# Predicciones\u001b[0m\u001b[0;34m\u001b[0m\u001b[0;34m\u001b[0m\u001b[0;34m\u001b[0m\u001b[0m\n\u001b[1;32m      2\u001b[0m \u001b[0;32mfor\u001b[0m \u001b[0mk\u001b[0m \u001b[0;32min\u001b[0m \u001b[0mtestdF\u001b[0m\u001b[0;34m.\u001b[0m\u001b[0mindex\u001b[0m\u001b[0;34m:\u001b[0m\u001b[0;34m\u001b[0m\u001b[0;34m\u001b[0m\u001b[0m\n\u001b[0;32m----> 3\u001b[0;31m     \u001b[0mprint\u001b[0m\u001b[0;34m(\u001b[0m\u001b[0mmve_nb_classifier1\u001b[0m\u001b[0;34m(\u001b[0m\u001b[0mtestdF\u001b[0m\u001b[0;34m.\u001b[0m\u001b[0mloc\u001b[0m\u001b[0;34m[\u001b[0m\u001b[0mk\u001b[0m\u001b[0;34m]\u001b[0m\u001b[0;34m)\u001b[0m\u001b[0;34m)\u001b[0m\u001b[0;34m\u001b[0m\u001b[0;34m\u001b[0m\u001b[0m\n\u001b[0m",
      "\u001b[0;32m<ipython-input-46-069703b1df8d>\u001b[0m in \u001b[0;36mmve_nb_classifier1\u001b[0;34m(person)\u001b[0m\n\u001b[1;32m      1\u001b[0m \u001b[0;31m# Clasificador bayesiano ingenuo MEV. Clasifica un individuo como 'A' (adulto) o 'J' (joven)\u001b[0m\u001b[0;34m\u001b[0m\u001b[0;34m\u001b[0m\u001b[0;34m\u001b[0m\u001b[0m\n\u001b[1;32m      2\u001b[0m \u001b[0;32mdef\u001b[0m \u001b[0mmve_nb_classifier1\u001b[0m\u001b[0;34m(\u001b[0m\u001b[0mperson\u001b[0m\u001b[0;34m)\u001b[0m\u001b[0;34m:\u001b[0m\u001b[0;34m\u001b[0m\u001b[0;34m\u001b[0m\u001b[0m\n\u001b[0;32m----> 3\u001b[0;31m     \u001b[0;32mif\u001b[0m \u001b[0mprob_of_being_of_class\u001b[0m\u001b[0;34m(\u001b[0m\u001b[0;34m'A'\u001b[0m\u001b[0;34m,\u001b[0m\u001b[0mperson\u001b[0m\u001b[0;34m)\u001b[0m \u001b[0;34m<\u001b[0m \u001b[0mprob_of_being_of_class\u001b[0m\u001b[0;34m(\u001b[0m\u001b[0;34m'J'\u001b[0m\u001b[0;34m,\u001b[0m\u001b[0mperson\u001b[0m\u001b[0;34m)\u001b[0m\u001b[0;34m:\u001b[0m\u001b[0;34m\u001b[0m\u001b[0;34m\u001b[0m\u001b[0m\n\u001b[0m\u001b[1;32m      4\u001b[0m         \u001b[0;32mreturn\u001b[0m \u001b[0;34m'J'\u001b[0m\u001b[0;34m\u001b[0m\u001b[0;34m\u001b[0m\u001b[0m\n\u001b[1;32m      5\u001b[0m     \u001b[0;32mif\u001b[0m \u001b[0mprob_of_being_of_class\u001b[0m\u001b[0;34m(\u001b[0m\u001b[0;34m'J'\u001b[0m\u001b[0;34m,\u001b[0m\u001b[0mperson\u001b[0m\u001b[0;34m)\u001b[0m \u001b[0;34m<\u001b[0m \u001b[0mprob_of_being_of_class\u001b[0m\u001b[0;34m(\u001b[0m\u001b[0;34m'A'\u001b[0m\u001b[0;34m,\u001b[0m\u001b[0mperson\u001b[0m\u001b[0;34m)\u001b[0m\u001b[0;34m:\u001b[0m\u001b[0;34m\u001b[0m\u001b[0;34m\u001b[0m\u001b[0m\n",
      "\u001b[0;32m<ipython-input-26-39cbf7215b76>\u001b[0m in \u001b[0;36mprob_of_being_of_class\u001b[0;34m(cl, person)\u001b[0m\n\u001b[1;32m     26\u001b[0m     \u001b[0mp\u001b[0m\u001b[0;34m=\u001b[0m \u001b[0mprob_of_class\u001b[0m\u001b[0;34m(\u001b[0m\u001b[0mcl\u001b[0m\u001b[0;34m)\u001b[0m\u001b[0;34m\u001b[0m\u001b[0;34m\u001b[0m\u001b[0m\n\u001b[1;32m     27\u001b[0m     \u001b[0;32mfor\u001b[0m \u001b[0mk\u001b[0m \u001b[0;32min\u001b[0m \u001b[0mdF\u001b[0m\u001b[0;34m.\u001b[0m\u001b[0mindex\u001b[0m\u001b[0;34m[\u001b[0m\u001b[0;34m:\u001b[0m\u001b[0;34m-\u001b[0m\u001b[0;36m1\u001b[0m\u001b[0;34m]\u001b[0m\u001b[0;34m:\u001b[0m\u001b[0;34m\u001b[0m\u001b[0;34m\u001b[0m\u001b[0m\n\u001b[0;32m---> 28\u001b[0;31m         \u001b[0;32mif\u001b[0m \u001b[0mdF\u001b[0m\u001b[0;34m.\u001b[0m\u001b[0mloc\u001b[0m\u001b[0;34m[\u001b[0m\u001b[0mk\u001b[0m\u001b[0;34m]\u001b[0m\u001b[0;34m[\u001b[0m\u001b[0mperson\u001b[0m\u001b[0;34m]\u001b[0m \u001b[0;34m==\u001b[0m \u001b[0;34m'1'\u001b[0m\u001b[0;34m:\u001b[0m\u001b[0;34m\u001b[0m\u001b[0;34m\u001b[0m\u001b[0m\n\u001b[0m\u001b[1;32m     29\u001b[0m             \u001b[0mp\u001b[0m \u001b[0;34m*=\u001b[0m \u001b[0mprob_of_band_given_class\u001b[0m\u001b[0;34m(\u001b[0m\u001b[0mk\u001b[0m\u001b[0;34m,\u001b[0m\u001b[0mcl\u001b[0m\u001b[0;34m)\u001b[0m\u001b[0;34m\u001b[0m\u001b[0;34m\u001b[0m\u001b[0m\n\u001b[1;32m     30\u001b[0m         \u001b[0;32melse\u001b[0m\u001b[0;34m:\u001b[0m\u001b[0;34m\u001b[0m\u001b[0;34m\u001b[0m\u001b[0m\n",
      "\u001b[0;32m~/anaconda3/envs/env1/lib/python3.7/site-packages/pandas/core/generic.py\u001b[0m in \u001b[0;36m__nonzero__\u001b[0;34m(self)\u001b[0m\n\u001b[1;32m   1574\u001b[0m         raise ValueError(\"The truth value of a {0} is ambiguous. \"\n\u001b[1;32m   1575\u001b[0m                          \u001b[0;34m\"Use a.empty, a.bool(), a.item(), a.any() or a.all().\"\u001b[0m\u001b[0;34m\u001b[0m\u001b[0;34m\u001b[0m\u001b[0m\n\u001b[0;32m-> 1576\u001b[0;31m                          .format(self.__class__.__name__))\n\u001b[0m\u001b[1;32m   1577\u001b[0m \u001b[0;34m\u001b[0m\u001b[0m\n\u001b[1;32m   1578\u001b[0m     \u001b[0m__bool__\u001b[0m \u001b[0;34m=\u001b[0m \u001b[0m__nonzero__\u001b[0m\u001b[0;34m\u001b[0m\u001b[0;34m\u001b[0m\u001b[0m\n",
      "\u001b[0;31mValueError\u001b[0m: The truth value of a Series is ambiguous. Use a.empty, a.bool(), a.item(), a.any() or a.all()."
     ]
    }
   ],
   "source": [
    "# Predicciones\n",
    "for k in testdF.index:\n",
    "    print(mve_nb_classifier1(testdF.loc[k]))"
   ]
  }
 ],
 "metadata": {
  "kernelspec": {
   "display_name": "Python 3",
   "language": "python",
   "name": "python3"
  },
  "language_info": {
   "codemirror_mode": {
    "name": "ipython",
    "version": 3
   },
   "file_extension": ".py",
   "mimetype": "text/x-python",
   "name": "python",
   "nbconvert_exporter": "python",
   "pygments_lexer": "ipython3",
   "version": "3.7.1"
  }
 },
 "nbformat": 4,
 "nbformat_minor": 2
}
