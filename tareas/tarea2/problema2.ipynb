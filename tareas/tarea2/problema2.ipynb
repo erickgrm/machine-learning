{
 "cells": [
  {
   "cell_type": "markdown",
   "metadata": {},
   "source": [
    "<h1>Problema 2: Resistencia de cultivos de bacterias</h1>\n",
    "<p>Autor: Erick García Ramírez<br /> \n",
    "erick_phy@ciencias.unam.mx<br /> \n",
    "Curso de Aprendizaje Automatizado, MCIC 2019-2</p>\n",
    "\n",
    "Buscamos entender cual es la influencia de los dos químicos en la supervivencia de las bacterias. Particularmente buscamos ser capaces de predecir cuál de las bacterias sobrevivirá dada ciertas concentraciones de los químicos. Veremos en el transcurso del problema que esto no es posible.\n",
    "\n",
    "En este problema implementaremos un clasificador <em>directamente</em>, por lo que no cargamos la librería scikit-learn. "
   ]
  },
  {
   "cell_type": "code",
   "execution_count": 61,
   "metadata": {},
   "outputs": [],
   "source": [
    "import pandas as pd\n",
    "import numpy as np\n",
    "import matplotlib.pyplot as plt"
   ]
  },
  {
   "cell_type": "markdown",
   "metadata": {},
   "source": [
    "En la siguiente celda cargamos los datos en <em>bacterias.csv</em>, y posteriormente los partimos directamente en tres columnas: X1 los valores de la concentración del primer químico, X2 los valores de la concentración del segundo químico, y B la lista de con la información de cuál bacteria sobrevivió. En términos de un problema de clasificación, B es el conjunto de etiquetas que busamos predecir. "
   ]
  },
  {
   "cell_type": "code",
   "execution_count": 62,
   "metadata": {},
   "outputs": [],
   "source": [
    "data = pd.read_csv(\"~/Desktop/mcc20192/mlearning/tareas/tarea2/nb_data/bacterias.csv\")\n",
    "X1 = data.iloc[0:,0]\n",
    "X2 = data.iloc[0:,1]\n",
    "B = data.iloc[0:,2]"
   ]
  },
  {
   "cell_type": "markdown",
   "metadata": {},
   "source": [
    "Para ver qué tipo de clasificador deberíamos construir, a continuación graficamos los histogramas del químico 1 (X1) y del químico 2 (X2). "
   ]
  },
  {
   "cell_type": "code",
   "execution_count": 63,
   "metadata": {},
   "outputs": [
    {
     "data": {
      "text/plain": [
       "array([[<matplotlib.axes._subplots.AxesSubplot object at 0x7fe1ec719390>,\n",
       "        <matplotlib.axes._subplots.AxesSubplot object at 0x7fe1ec746780>]],\n",
       "      dtype=object)"
      ]
     },
     "execution_count": 63,
     "metadata": {},
     "output_type": "execute_result"
    },
    {
     "data": {
      "image/png": "[encoded data removed]",
      "text/plain": [
       "<Figure size 864x432 with 2 Axes>"
      ]
     },
     "metadata": {
      "needs_background": "light"
     },
     "output_type": "display_data"
    }
   ],
   "source": [
    "pd.DataFrame.hist(data.iloc[0:,:-1], grid=False,bins=20,figsize=(12,6))"
   ]
  },
  {
   "cell_type": "markdown",
   "metadata": {},
   "source": [
    "<h1> Estimación de parámetros</h1>\n",
    "Es muy claro a partir de los histogramas que es razonable suponer que X1 y X2 tienen una distribución normal. Por lo tanto, ahora comenzamos la tarea de construir el clasificador. Debemos aprender los parámetros $\\hat \\mu$ (la media) y $\\hat \\sigma^2$ (la varianza) para las distribuciones de X1 y X2. Nuestras decisiones finales seguiran el principio de máxima verosimilitud, i.e.\n",
    "\n",
    "$$P(B= b|X_1 = x_1\\wedge X_2=x_2)\\propto P(B=b)P(X_1=x_1|B = b)P(X_2=x_2|B=b)$$\n",
    "\n",
    "\n",
    "Comenzaremos por estimar los parámetros para las distribuciones normales $P(X_1=x_1|B = b)$ y $P(X_2=x_2|B=b)$. Como estamos siguiendo el principio de máxima verosimilitud, tenemos que  para $i=1,2$:\n",
    " $$\\hat\\mu_i=\\text{media experimental para el quimico }i =\\frac{1}{n}\\sum_{k=1}^nX_i^{(k)}$$\n",
    " Y por otro lado,\n",
    " $$\\hat \\sigma_i^2=\\text{varianza experimental para el quimico }i =\\frac{1}{n}\\sum_{k=1}^n(X_i^{(k)}-\\hat\\mu_i)^2$$"
   ]
  },
  {
   "cell_type": "code",
   "execution_count": 64,
   "metadata": {},
   "outputs": [
    {
     "name": "stdout",
     "output_type": "stream",
     "text": [
      "mu1= 10.00077192982456 sigma1^2= 3.3926943915930154\n",
      "mu2= 12.478265664160398 sigma2^2= 3.218059222655635\n"
     ]
    }
   ],
   "source": [
    "# Se supone que la distribución de cada químico es normal\n",
    "\n",
    "# Estimación de la media de una columna\n",
    "def mve_mu_estimation(col):\n",
    "    s = 0\n",
    "    for k in col.index:\n",
    "        s += col.loc[k]\n",
    "    return s/len(col)\n",
    "\n",
    "# El parámetro mu estimado para X1\n",
    "mu1 = mve_mu_estimation(X1)\n",
    "# El parámetro mu estimado para X2\n",
    "mu2 = mve_mu_estimation(X2)\n",
    "\n",
    "# Estimación de la varianza de una columna\n",
    "def mve_variance_estimation(col):\n",
    "    mu = mve_mu_estimation(col)\n",
    "    s = 0\n",
    "    for k in col.index:\n",
    "        s += (col.loc[k]-mu)**2\n",
    "    return s/len(col)\n",
    "\n",
    "# El parámetro sigma^2 para X1\n",
    "var1 = mve_variance_estimation(X1)\n",
    "# El parámetro sigma^2 para X2\n",
    "var2 = mve_variance_estimation(X2)\n",
    "\n",
    "# Imprimimos nuestras estimaciones\n",
    "print('mu1=',mu1,'sigma1^2=',var1)\n",
    "print('mu2=',mu2,'sigma2^2=',var2)"
   ]
  },
  {
   "cell_type": "markdown",
   "metadata": {},
   "source": [
    "Obtenemos que los parámetros para $P(X_1=x_1|B = b)$ son $\\mu_1= 10.00077192982456$ y  $\\sigma_1^2= 3.3926943915930154$. Para $P(X_2=x_2|B=b)$ son\n",
    "$\\mu_2= 12.478265664160398$ y $\\sigma_2^2= 3.218059222655635$. \n",
    "\n",
    "Como sólo una de las bacterias puede sobrevivir (B sólo consta de dos valores, 0 y 1), es claro que podemos suponer que la distribución de $P(B=b)$ es bernoulli. Ahora aprendemos el parámetro $q$ para esta distrubución. Como pretendemos seguir el principio de máxima verosimilitud tenemos que \n",
    "$$\\hat q = \\frac{\\text{ numero de experimentos en que sobrevivio la bacteria b }}{\\text{ total de experimentos }}=\\frac{N_b}{N}$$\n",
    "\n",
    "Después de encontrar $\\hat q$, imprimimos las probabilidades correspondientes de cada bacteria."
   ]
  },
  {
   "cell_type": "code",
   "execution_count": 65,
   "metadata": {},
   "outputs": [
    {
     "name": "stdout",
     "output_type": "stream",
     "text": [
      "Probabilidad de que la bacteria 1 sobreviva = 0.49874686716791977\n",
      "Probabilidad de que la bacteria 2 sobreviva = 0.5012531328320802\n"
     ]
    }
   ],
   "source": [
    "# Para la probabilidad de la clase suponemos una distribución Bernoulli. Calculamos el parámetro bajo el principio de máxima verosimilitud.\n",
    "def qmve_of_class(cl):\n",
    "    Nc=0\n",
    "    for k in B.index:\n",
    "        if B[k] == cl:\n",
    "            Nc += 1\n",
    "    return Nc/len(B)\n",
    "print('Probabilidad de que la bacteria 1 sobreviva =', qmve_of_class(0))\n",
    "print('Probabilidad de que la bacteria 2 sobreviva =', qmve_of_class(1))"
   ]
  },
  {
   "cell_type": "markdown",
   "metadata": {},
   "source": [
    "<h1> Construcción del clasificador</h1> \n",
    "Ya estimamos los parámetros para las distribuciones $P(B=b)$, $P(X_1=x_1|B = b)$ y $P(X_2=x_2|B=b)$, así que ya tenemos todos los ingredientes para hacer predicciones. En la siguiente celda prob_of_surviving_bacteria es la función que regresa el producto \n",
    " $$P(B=b)P(X_1=x_1|B = b)P(X_2=x_2|B=b)$$\n",
    " "
   ]
  },
  {
   "cell_type": "code",
   "execution_count": 66,
   "metadata": {},
   "outputs": [],
   "source": [
    "# Calcular la probabilidad puntual (densidad) para una distribución normal\n",
    "def normal_pd(x, mu, var):\n",
    "    return (np.exp(-x-mu)**2/(2*var))/(2*np.pi*var)**.5\n",
    "\n",
    "# Producto de P(B=b) P(X1=x1|B = b) con P(X2=x2|B=b). concentrations = [qty of X1,qty of X2]\n",
    "def prob_of_surviving_bacteria(cl,concentrations):\n",
    "    p = qmve_of_class(cl)\n",
    "    p *= normal_pd(concentrations[0],mu1,var1)\n",
    "    p *= normal_pd(concentrations[1],mu2,var2)\n",
    "    return p    "
   ]
  },
  {
   "cell_type": "markdown",
   "metadata": {},
   "source": [
    "La siguiente celda contiene la definición del clasificador, que simplemente decide que la bacteria que sobrevivirá es la que máximice a la estimación (salvo un factor normalizante) $P(B= b|X_1 = x_1\\wedge X_2=x_2)$ dada por $P(B=b)P(X_1=x_1|B = b)P(X_2=x_2|B=b)$. \n",
    "    "
   ]
  },
  {
   "cell_type": "code",
   "execution_count": 67,
   "metadata": {},
   "outputs": [
    {
     "name": "stdout",
     "output_type": "stream",
     "text": [
      "8.684 12.804\n"
     ]
    },
    {
     "data": {
      "text/plain": [
       "1"
      ]
     },
     "execution_count": 67,
     "metadata": {},
     "output_type": "execute_result"
    }
   ],
   "source": [
    "# Construcción del modelo por máxima verosimilitud\n",
    "def mve_classifierNB(concentrations):\n",
    "    if prob_of_surviving_bacteria(0,concentrations) < prob_of_surviving_bacteria(1,concentrations):\n",
    "        return 1\n",
    "    if prob_of_surviving_bacteria(1,concentrations) < prob_of_surviving_bacteria(0,concentrations):\n",
    "        return 0\n",
    "\n",
    "print(X1.loc[0],X2.loc[0])\n",
    "mve_classifierNB([8.684,12.804])"
   ]
  },
  {
   "cell_type": "markdown",
   "metadata": {},
   "source": [
    "<h1> Rendimiento</h1>\n",
    "Ahora analizamos el rendimiento del classificador construido. La función error_rate debajo regresa el número de errores cometidos por el clasificador. "
   ]
  },
  {
   "cell_type": "code",
   "execution_count": 68,
   "metadata": {},
   "outputs": [],
   "source": [
    "def errors():\n",
    "    counter = 0\n",
    "    for k in data.index:\n",
    "        if mve_classifierNB([X1.loc[k],X2.loc[k]]) != B[k]:\n",
    "            counter += 1\n",
    "    return counter\n",
    "e = errors()"
   ]
  },
  {
   "cell_type": "code",
   "execution_count": 69,
   "metadata": {},
   "outputs": [
    {
     "name": "stdout",
     "output_type": "stream",
     "text": [
      "Número de errores cometidos por mve_classifierNB: 199\n",
      "Porcentaje de aciertos: 50.13\n"
     ]
    }
   ],
   "source": [
    "print('Número de errores cometidos por mve_classifierNB:', e)\n",
    "print('Porcentaje de aciertos:',  round(100*(len(B)-e)/len(B),2))\n",
    "\n",
    "# Por clase, la tasa de error para la bacteria 0 es del 100%"
   ]
  },
  {
   "cell_type": "markdown",
   "metadata": {},
   "source": [
    "<h1>Conclusiones</h1>\n",
    "Con un porcentaje de aciertos del 50% sabemos que mve_classifierNB no es mejor que lanzar una moneda para predecir cuál bacteria sobrevive. Sin embargo, lo que es aún más grave es que mve_classifierNB se equivoca en cada una de sus predicciones para la bacteria 2. La tasa de aciertos para la bacteria 1 es de 100% pero para la bacteria 2 es de 0%. Para el clasificador las bacterias son la misma. \n",
    "\n",
    "En este problema estamos ante un conjunto de datos para el cual nuestras técnicas de clasificación basadas en Naive Bayes fracasarán. Para ver la intuición de esto veamos como se esparcen las concentraciones de los químicos. "
   ]
  },
  {
   "cell_type": "code",
   "execution_count": 70,
   "metadata": {},
   "outputs": [
    {
     "data": {
      "image/png": "[encoded data removed]",
      "text/plain": [
       "<Figure size 432x288 with 1 Axes>"
      ]
     },
     "metadata": {
      "needs_background": "light"
     },
     "output_type": "display_data"
    }
   ],
   "source": [
    "x0 = data.values[:-200, 0]\n",
    "y0 = data.values[:-200, 1]\n",
    "x1 = data.values[199:,0]\n",
    "y1 = data.values[199:,1]\n",
    "plt.plot(x0, y0, 'ks', label ='X1')\n",
    "plt.plot(x1, y1, 'bo', label ='X2' )\n",
    "plt.legend(loc='upper left')\n",
    "plt.show()"
   ]
  },
  {
   "cell_type": "markdown",
   "metadata": {},
   "source": [
    "Vemos claramente que la tarea de separar (clasificar) los puntos negros y azules es muy díficil siguiendo los principios de los clasificadores bayesianos ingenuos. La correlación de X1 y X2 expuesta en la gŕafica sugiere que la hipótesis de que las  probabilidades de los atributos sean independientes no es razonable en este ejemplo.\n",
    "\n",
    "Formalmente, las distribuciones normales de $X1$ y la de $X2$ son tales que no podemos distinguir a los puntos a partir de las medias y las varianzas. La información que puede distinguir entre las dos clases de puntos es la covarianza. "
   ]
  }
 ],
 "metadata": {
  "kernelspec": {
   "display_name": "Python 3",
   "language": "python",
   "name": "python3"
  },
  "language_info": {
   "codemirror_mode": {
    "name": "ipython",
    "version": 3
   },
   "file_extension": ".py",
   "mimetype": "text/x-python",
   "name": "python",
   "nbconvert_exporter": "python",
   "pygments_lexer": "ipython3",
   "version": "3.7.1"
  }
 },
 "nbformat": 4,
 "nbformat_minor": 2
}
