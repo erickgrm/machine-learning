{
 "cells": [
  {
   "cell_type": "code",
   "execution_count": 4,
   "metadata": {},
   "outputs": [],
   "source": [
    "import pandas as pd\n",
    "import numpy as np\n",
    "import matplotlib.pyplot as plt"
   ]
  },
  {
   "cell_type": "code",
   "execution_count": 37,
   "metadata": {},
   "outputs": [
    {
     "data": {
      "text/plain": [
       "array([[<matplotlib.axes._subplots.AxesSubplot object at 0x7f2656a78748>,\n",
       "        <matplotlib.axes._subplots.AxesSubplot object at 0x7f26568ec780>]],\n",
       "      dtype=object)"
      ]
     },
     "execution_count": 37,
     "metadata": {},
     "output_type": "execute_result"
    },
    {
     "data": {
      "image/png": "[encoded data removed]",
      "text/plain": [
       "<Figure size 864x432 with 2 Axes>"
      ]
     },
     "metadata": {
      "needs_background": "light"
     },
     "output_type": "display_data"
    }
   ],
   "source": [
    "data = pd.read_csv(\"~/Desktop/mcc20192/mlearning/tareas/tarea2/nb_data/bacterias.csv\")\n",
    "X1 = data.iloc[0:,0]\n",
    "X2 = data.iloc[0:,1]\n",
    "B = data.iloc[0:,2]\n",
    "pd.DataFrame.hist(data.iloc[0:,:-1], grid=False,bins=20,figsize=(12,6))"
   ]
  },
  {
   "cell_type": "code",
   "execution_count": 4,
   "metadata": {},
   "outputs": [
    {
     "name": "stdout",
     "output_type": "stream",
     "text": [
      "10.00077192982456 3.3926943915930154\n",
      "12.478265664160398 3.218059222655635\n",
      "200.0 199.0\n"
     ]
    }
   ],
   "source": [
    "# Se supone que la distribución de la bacteria sobreviviente es normal con respecto a cada químico\n",
    "def mve_mu_estimation(col):\n",
    "    s = 0\n",
    "    for k in col.index:\n",
    "        s += col.loc[k]\n",
    "    return s/len(col)\n",
    "\n",
    "mu1 = mve_mu_estimation(X1)\n",
    "mu2 = mve_mu_estimation(X2)\n",
    "\n",
    "def mve_variance_estimation(col):\n",
    "    mu = mve_mu_estimation(col)\n",
    "    s = 0\n",
    "    for k in col.index:\n",
    "        s += (col.loc[k]-mu)**2\n",
    "    return s/len(col)\n",
    "\n",
    "var1 = mve_variance_estimation(X1)\n",
    "var2 = mve_variance_estimation(X2)\n",
    "\n",
    "print(mu1,var1)\n",
    "print(mu2,var2)\n",
    "\n",
    "# Para la probabilidad de la clase suponemos una distribución Bernoulli.\n",
    "def qmve_of_class(cl):\n",
    "    Nc=0\n",
    "    for k in B.index:\n",
    "        if B[k] == cl:\n",
    "            Nc += 1\n",
    "    return Nc/len(B)\n",
    "print(qmve_of_class(1)*399,qmve_of_class(0)*399)\n",
    "\n",
    "# Calcular la probabilidad puntual (densidad) para una distribución normal\n",
    "def normal_pd(x, mu, var):\n",
    "    return (np.exp(-x-mu)**2/(2*var))/(2*np.pi*var)**.5\n",
    "\n",
    "# concentrations = [qty of X1,qty of X2]\n",
    "def prob_of_surviving_bacteria(cl,concentrations):\n",
    "    p = qmve_of_class(cl)\n",
    "    p *= normal_pd(concentrations[0],mu1,var1)\n",
    "    p *= normal_pd(concentrations[1],mu2,var2)\n",
    "    return p    "
   ]
  },
  {
   "cell_type": "code",
   "execution_count": 5,
   "metadata": {},
   "outputs": [
    {
     "name": "stdout",
     "output_type": "stream",
     "text": [
      "8.684 12.804\n"
     ]
    },
    {
     "data": {
      "text/plain": [
       "1"
      ]
     },
     "execution_count": 5,
     "metadata": {},
     "output_type": "execute_result"
    }
   ],
   "source": [
    "# Construcción del modelo por máxima verosimilitud\n",
    "def mve_classifier2(concentrations):\n",
    "    if prob_of_surviving_bacteria(0,concentrations) < prob_of_surviving_bacteria(1,concentrations):\n",
    "        return 1\n",
    "    if prob_of_surviving_bacteria(1,concentrations) < prob_of_surviving_bacteria(0,concentrations):\n",
    "        return 0\n",
    "\n",
    "print(X1.loc[0],X2.loc[0])\n",
    "mve_classifier2([8.684,12.804])"
   ]
  },
  {
   "cell_type": "code",
   "execution_count": 7,
   "metadata": {},
   "outputs": [
    {
     "name": "stdout",
     "output_type": "stream",
     "text": [
      "Número de errores: 199\n",
      "Porcentaje de errores: 49.87468671679198\n",
      "0\n"
     ]
    }
   ],
   "source": [
    "def error_rate():\n",
    "    errors = 0\n",
    "    for k in data.index:\n",
    "        if mve_classifier2([X1.loc[k],X2.loc[k]]) != B[k]:\n",
    "            errors += 1\n",
    "    print('Número de errores:', errors)\n",
    "    print('Porcentaje de errores:',  100*errors/len(B))\n",
    "    return 0\n",
    "    \n",
    "print(error_rate())\n",
    "# Por clase, la tasa de error para la bacteria 0 es del 100%"
   ]
  }
 ],
 "metadata": {
  "kernelspec": {
   "display_name": "Python 3",
   "language": "python",
   "name": "python3"
  },
  "language_info": {
   "codemirror_mode": {
    "name": "ipython",
    "version": 3
   },
   "file_extension": ".py",
   "mimetype": "text/x-python",
   "name": "python",
   "nbconvert_exporter": "python",
   "pygments_lexer": "ipython3",
   "version": "3.7.1"
  }
 },
 "nbformat": 4,
 "nbformat_minor": 2
}
