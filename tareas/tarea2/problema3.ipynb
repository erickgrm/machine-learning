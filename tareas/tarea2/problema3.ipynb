{
 "cells": [
  {
   "cell_type": "code",
   "execution_count": 75,
   "metadata": {},
   "outputs": [],
   "source": [
    "import pandas as pd\n",
    "import numpy as np\n",
    "from sklearn.model_selection import train_test_split\n",
    "from sklearn.naive_bayes import  BernoulliNB, GaussianNB, MultinomialNB"
   ]
  },
  {
   "cell_type": "code",
   "execution_count": 76,
   "metadata": {},
   "outputs": [
    {
     "name": "stdout",
     "output_type": "stream",
     "text": [
      "3620 1552\n",
      "Int64Index([3459, 1385, 1380, 4462, 3840, 1452, 2849, 3145, 1271, 1021,\n",
      "            ...\n",
      "             705, 3468, 4373, 1033, 4859, 4931, 3264, 1653, 2607, 2732],\n",
      "           dtype='int64', length=3620)\n"
     ]
    }
   ],
   "source": [
    "data = pd.read_csv(\"~/Desktop/mcc20192/mlearning/tareas/tarea2/nb_data/spam.csv\", header=None, delimiter=\" \")\n",
    "\n",
    "#Partición aleatoria del conjunto de datos\n",
    "train_data, test_data= train_test_split(data, test_size=0.30, random_state=0)\n",
    "print(len(train_data),len(test_data))\n",
    "print(train_data.index)"
   ]
  },
  {
   "cell_type": "code",
   "execution_count": 80,
   "metadata": {},
   "outputs": [
    {
     "name": "stdout",
     "output_type": "stream",
     "text": [
      "[[0 0 0 ... 0 0 0]\n",
      " [0 0 0 ... 0 0 0]\n",
      " [0 0 0 ... 0 0 0]\n",
      " ...\n",
      " [0 0 0 ... 0 0 0]\n",
      " [0 0 0 ... 0 0 0]\n",
      " [0 0 0 ... 0 0 0]]\n"
     ]
    }
   ],
   "source": [
    "# Preparación del conjunto de entrenamiento (conversión a matriz numpy)\n",
    "train_matrix = train_data.values[:,:-1]\n",
    "train_labels = train_data.values[:,-1]\n",
    "\n",
    "# Preparación del conjunto de validación (conversión a matriz numpy)\n",
    "test_matrix = test_data.values[:,:-1]\n",
    "test_labels = test_data.values[:,-1]\n",
    "\n",
    "#print(train_matrix)\n",
    "#print(train_labels)\n",
    "#print(test_matrix)\n",
    "#print(test_labels)"
   ]
  },
  {
   "cell_type": "code",
   "execution_count": 78,
   "metadata": {},
   "outputs": [
    {
     "name": "stdout",
     "output_type": "stream",
     "text": [
      "BernoulliNB(alpha=1.0, binarize=1.0, class_prior=None, fit_prior=True)\n",
      "GaussianNB(priors=None, var_smoothing=1e-09)\n",
      "MultinomialNB(alpha=1.0, class_prior=None, fit_prior=True)\n"
     ]
    }
   ],
   "source": [
    "# Proponemos los siguientes clasificadores\n",
    "bernoulli_classifier = BernoulliNB(binarize = 1.0)\n",
    "normal_classifier = GaussianNB()\n",
    "multinomial_classifier = MultinomialNB()\n",
    "\n",
    "# Entrenamiento\n",
    "print(bernoulli_classifier.fit(train_matrix,train_labels))\n",
    "print(normal_classifier.fit(train_matrix,train_labels))\n",
    "print(multinomial_classifier.fit(train_matrix,train_labels))"
   ]
  },
  {
   "cell_type": "code",
   "execution_count": 79,
   "metadata": {},
   "outputs": [
    {
     "name": "stdout",
     "output_type": "stream",
     "text": [
      "Sobre el conjunto de validación\n",
      "235\n",
      "119\n",
      "81\n",
      "Sobre el conjunto de entrenamiento\n",
      "490\n",
      "226\n",
      "166\n"
     ]
    }
   ],
   "source": [
    "# Pruebas en el conjunto de validación\n",
    "test_bernoulli = bernoulli_classifier.predict(test_matrix)\n",
    "test_normal = normal_classifier.predict(test_matrix)\n",
    "test_multinomial = multinomial_classifier.predict(test_matrix)\n",
    "\n",
    "# Pruebas en el conjunto de validación\n",
    "train_bernoulli = bernoulli_classifier.predict(train_matrix)\n",
    "train_normal = normal_classifier.predict(train_matrix)\n",
    "train_multinomial = multinomial_classifier.predict(train_matrix)\n",
    "\n",
    "def classification_errors(predicted,real):\n",
    "    s = 0\n",
    "    for i in range(0,len(predicted)):\n",
    "        if predicted[i] != real[i]:\n",
    "            s += 1\n",
    "    return s\n",
    "\n",
    "print('Sobre el conjunto de validación')    \n",
    "print(classification_errors(test_bernoulli,test_labels))\n",
    "print(classification_errors(test_normal,test_labels))\n",
    "print(classification_errors(test_multinomial,test_labels))\n",
    "\n",
    "print('Sobre el conjunto de entrenamiento')\n",
    "print(classification_errors(train_bernoulli,train_labels))\n",
    "print(classification_errors(train_normal,train_labels))\n",
    "print(classification_errors(train_multinomial,train_labels))"
   ]
  }
 ],
 "metadata": {
  "kernelspec": {
   "display_name": "Python 3",
   "language": "python",
   "name": "python3"
  },
  "language_info": {
   "codemirror_mode": {
    "name": "ipython",
    "version": 3
   },
   "file_extension": ".py",
   "mimetype": "text/x-python",
   "name": "python",
   "nbconvert_exporter": "python",
   "pygments_lexer": "ipython3",
   "version": "3.7.1"
  }
 },
 "nbformat": 4,
 "nbformat_minor": 2
}
