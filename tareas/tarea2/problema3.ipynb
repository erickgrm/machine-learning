{
 "cells": [
  {
   "cell_type": "markdown",
   "metadata": {},
   "source": [
    "<h1>Problema 3: Spam</h1>\n",
    "<p>Autor: Erick García Ramírez<br /> \n",
    "erick_phy@ciencias.unam.mx<br /> \n",
    "Curso de Aprendizaje Automatizado, MCIC 2019-2</p>\n",
    "\n",
    "Se nos pide clasificar emails en spam o no spam y se nos da el histograma de las palabras en los emails. Usaremos los clasificadores BernoulliNB y MultinomialNB de la librería scikit-learn para trabajar este problema. Cargamos las librerías que usaremos."
   ]
  },
  {
   "cell_type": "code",
   "execution_count": 11,
   "metadata": {},
   "outputs": [],
   "source": [
    "import pandas as pd\n",
    "import numpy as np\n",
    "from sklearn.model_selection import train_test_split\n",
    "from sklearn.naive_bayes import  BernoulliNB, MultinomialNB\n",
    "from sklearn.metrics import confusion_matrix"
   ]
  },
  {
   "cell_type": "markdown",
   "metadata": {},
   "source": [
    "En la siguiente celda cargamos los datos en <em>spam.csv</em>. En seguida particionamos aleatoriamente estos datos en un conjunto de entrenamiento (train_data) y otro de validación (test_data). La proporción entre estos subconjuntos es de 70% contra 30% de los datos totales. También imprimimos las longitudes de "
   ]
  },
  {
   "cell_type": "code",
   "execution_count": 3,
   "metadata": {},
   "outputs": [
    {
     "name": "stdout",
     "output_type": "stream",
     "text": [
      "3620 1552\n"
     ]
    }
   ],
   "source": [
    "data = pd.read_csv(\"~/Desktop/mcc20192/mlearning/tareas/tarea2/nb_data/spam.csv\", header=None, delimiter=\" \")\n",
    "\n",
    "#Partición aleatoria del conjunto de datos, 70% para entrenamiento y 30% para validación\n",
    "train_data, test_data= train_test_split(data, test_size=0.30, random_state=0)\n",
    "print(len(train_data),len(test_data))"
   ]
  },
  {
   "cell_type": "markdown",
   "metadata": {},
   "source": [
    "En la celda debajo preparamos los conjuntos de entrenamiento y de validación para ser pasados a los clasificadores propuestos. Partimos cada uno de estos conjuntos en una matriz de atributos y un vector de etiquetas. "
   ]
  },
  {
   "cell_type": "code",
   "execution_count": 4,
   "metadata": {},
   "outputs": [],
   "source": [
    "# Preparación del conjunto de entrenamiento (conversión a matriz numpy)\n",
    "train_matrix = train_data.values[:,:-1]\n",
    "train_labels = train_data.values[:,-1]\n",
    "\n",
    "# Preparación del conjunto de validación (conversión a matriz numpy)\n",
    "test_matrix = test_data.values[:,:-1]\n",
    "test_labels = test_data.values[:,-1]"
   ]
  },
  {
   "cell_type": "markdown",
   "metadata": {},
   "source": [
    "<h1> Clasificadores y su entrenamiento </h1>\n",
    "Ahora pasamos a entrenar a BernoulliNB y a MultinomialNB con el conjunto de datos de entrenamiento."
   ]
  },
  {
   "cell_type": "code",
   "execution_count": 6,
   "metadata": {},
   "outputs": [
    {
     "name": "stdout",
     "output_type": "stream",
     "text": [
      "BernoulliNB(alpha=1.0, binarize=1.0, class_prior=None, fit_prior=True)\n",
      "MultinomialNB(alpha=1.0, class_prior=None, fit_prior=True)\n"
     ]
    }
   ],
   "source": [
    "# Proponemos los siguientes clasificadores\n",
    "bernoulli_classifier = BernoulliNB(binarize = 1.0)\n",
    "multinomial_classifier = MultinomialNB()\n",
    "\n",
    "# Entrenamiento\n",
    "print(bernoulli_classifier.fit(train_matrix,train_labels))\n",
    "print(multinomial_classifier.fit(train_matrix,train_labels))"
   ]
  },
  {
   "cell_type": "code",
   "execution_count": 9,
   "metadata": {},
   "outputs": [],
   "source": [
    "# FUNCIÓN AUXILIAR: tomada de  https://gist.github.com/zachguo/10296432\n",
    "# Autor: zachguo\n",
    "# Esta función sirve para imprimir la matriz de confusión\n",
    "def print_cm(cm, labels, hide_zeroes=False, hide_diagonal=False, hide_threshold=None):\n",
    "    columnwidth = max([len(x) for x in labels] + [5])  # 5 is value length\n",
    "    empty_cell = \" \" * columnwidth\n",
    "    # Print header\n",
    "    print(\"    \" + empty_cell, end=\" \")\n",
    "    for label in labels:\n",
    "        print(\"%{0}s\".format(columnwidth) % label, end=\" \")\n",
    "    print()\n",
    "    # Print rows\n",
    "    for i, label1 in enumerate(labels):\n",
    "        print(\"    %{0}s\".format(columnwidth) % label1, end=\" \")\n",
    "        for j in range(len(labels)):\n",
    "            cell = \"%{0}.1f\".format(columnwidth) % cm[i, j]\n",
    "            if hide_zeroes:\n",
    "                cell = cell if float(cm[i, j]) != 0 else empty_cell\n",
    "            if hide_diagonal:\n",
    "                cell = cell if i != j else empty_cell\n",
    "            if hide_threshold:\n",
    "                cell = cell if cm[i, j] > hide_threshold else empty_cell\n",
    "            print(cell, end=\" \")\n",
    "        print()\n",
    "        \n",
    "# FUNCIÓN AUXILIAR: Función para calcular el número de errores de clasificación\n",
    "def classification_errors(predicted,real):\n",
    "    s = 0\n",
    "    for i in range(0,len(predicted)):\n",
    "        if predicted[i] != real[i]:\n",
    "            s += 1\n",
    "    return s"
   ]
  },
  {
   "cell_type": "markdown",
   "metadata": {},
   "source": [
    "<h1>Rendimiento</h1>\n",
    "En las siguientes celdas estudiamos el rendimiento de cada uno de los clasificadores entrenados. Primeri hacemos esto para el conjunto de entrenamiento."
   ]
  },
  {
   "cell_type": "code",
   "execution_count": 13,
   "metadata": {},
   "outputs": [
    {
     "name": "stdout",
     "output_type": "stream",
     "text": [
      "SOBRE EL CONJUNTO DE ENTRENAMIENTO.\n",
      "Matriz de confusión para BernoulliNB:\n",
      "               spam no spam \n",
      "       spam  2468.0   398.0 \n",
      "    no spam    92.0   662.0 \n",
      "Número de errores para BernoulliNB: 490\n",
      "Porcentaje de aciertos: 86.46\n",
      "\n",
      "Matriz de confusión para MutinomialNB:\n",
      "               spam no spam \n",
      "       spam  2454.0    60.0 \n",
      "    no spam   106.0  1000.0 \n",
      "Número de errores para MultinomialNB: 166\n",
      "Porcentaje de aciertos: 95.41\n"
     ]
    }
   ],
   "source": [
    "# Pruebas en el conjunto de entrenamiento\n",
    "predict_train_bernoulli = bernoulli_classifier.predict(train_matrix)\n",
    "predict_train_multinomial = multinomial_classifier.predict(train_matrix)\n",
    "\n",
    "print('SOBRE EL CONJUNTO DE ENTRENAMIENTO.')\n",
    "# Desempeño de BernoulliNB\n",
    "e=classification_errors(predict_train_bernoulli,train_labels)\n",
    "print('Matriz de confusión para BernoulliNB:')\n",
    "print_cm(confusion_matrix(predict_train_bernoulli, train_labels),['spam','no spam'])\n",
    "print('Número de errores para BernoulliNB:', e)\n",
    "print('Porcentaje de aciertos:', round(100*(len(train_matrix)-e)/len(train_matrix),2))\n",
    "print()\n",
    "# Desempeño de MultinomialNB\n",
    "print('Matriz de confusión para MutinomialNB:')\n",
    "e=classification_errors(predict_train_multinomial,train_labels)\n",
    "print_cm(confusion_matrix(predict_train_multinomial, train_labels),['spam','no spam'])\n",
    "print('Número de errores para MultinomialNB:', classification_errors(predict_train_multinomial,train_labels))\n",
    "print('Porcentaje de aciertos:', round(100*(len(train_matrix)-e)/len(train_matrix),2))"
   ]
  },
  {
   "cell_type": "markdown",
   "metadata": {},
   "source": [
    "Ahora hacemos el análisis de rendimiento para el conjunto de validación."
   ]
  },
  {
   "cell_type": "code",
   "execution_count": 15,
   "metadata": {},
   "outputs": [
    {
     "name": "stdout",
     "output_type": "stream",
     "text": [
      "SOBRE EL CONJUNTO DE VALIDACIÓN.\n",
      "Matriz de confusión para BernoulliNB:\n",
      "               spam no spam \n",
      "       spam  1046.0   169.0 \n",
      "    no spam    66.0   271.0 \n",
      "Número de errores para BernoulliNB: 235\n",
      "Porcentaje de aciertos: 84.86\n",
      "\n",
      "Matriz de confusión para MutinomialNB:\n",
      "               spam no spam \n",
      "       spam  1050.0    19.0 \n",
      "    no spam    62.0   421.0 \n",
      "Número de errores para MultinomialNB: 81\n",
      "Porcentaje de aciertos: 94.78\n"
     ]
    }
   ],
   "source": [
    "# Pruebas en el conjunto de validación\n",
    "predict_test_bernoulli = bernoulli_classifier.predict(test_matrix)\n",
    "predict_test_multinomial = multinomial_classifier.predict(test_matrix)\n",
    "\n",
    "print('SOBRE EL CONJUNTO DE VALIDACIÓN.')\n",
    "# Desempeño de BernoulliNB\n",
    "e=classification_errors(predict_test_bernoulli,test_labels)\n",
    "print('Matriz de confusión para BernoulliNB:')\n",
    "print_cm(confusion_matrix(predict_test_bernoulli, test_labels),['spam','no spam'])\n",
    "print('Número de errores para BernoulliNB:', e)\n",
    "print('Porcentaje de aciertos:', round(100*(len(test_matrix)-e)/len(test_matrix),2))\n",
    "print()\n",
    "# Desempeño de MultinomialNB\n",
    "print('Matriz de confusión para MutinomialNB:')\n",
    "e=classification_errors(predict_test_multinomial,test_labels)\n",
    "print_cm(confusion_matrix(predict_test_multinomial, test_labels),['spam','no spam'])\n",
    "print('Número de errores para MultinomialNB:', classification_errors(predict_test_multinomial,test_labels))\n",
    "print('Porcentaje de aciertos:', round(100*(len(test_matrix)-e)/len(test_matrix),2))"
   ]
  },
  {
   "cell_type": "markdown",
   "metadata": {},
   "source": [
    "<h1> Conclusiones</h1>\n",
    "Por la naturaleza del problema sabemos que uno de los modelos más adecuados para la clasificación de spam es el multinomial. Sobre ambos conjuntos de entrenamiento y validación MultinomialNB tuvo alrededor de un 10% de más predicciones correctas que BernoulliNB. Una de las razones por lo que esto pasa es que la binarización de los atributos que se debe hacer para aplicar BernoulliNB (la opción <em>binarize = 1.0</em>) implica la pérdida de información."
   ]
  }
 ],
 "metadata": {
  "kernelspec": {
   "display_name": "Python 3",
   "language": "python",
   "name": "python3"
  },
  "language_info": {
   "codemirror_mode": {
    "name": "ipython",
    "version": 3
   },
   "file_extension": ".py",
   "mimetype": "text/x-python",
   "name": "python",
   "nbconvert_exporter": "python",
   "pygments_lexer": "ipython3",
   "version": "3.7.1"
  }
 },
 "nbformat": 4,
 "nbformat_minor": 2
}
