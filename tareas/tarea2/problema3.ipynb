{
 "cells": [
  {
   "cell_type": "code",
   "execution_count": 310,
   "metadata": {},
   "outputs": [],
   "source": [
    "import pandas as pd\n",
    "import numpy as np\n",
    "from sklearn.model_selection import train_test_split\n",
    "from sklearn.naive_bayes import  BernoulliNB, GaussianNB, MultinomialNB"
   ]
  },
  {
   "cell_type": "code",
   "execution_count": 338,
   "metadata": {},
   "outputs": [
    {
     "name": "stdout",
     "output_type": "stream",
     "text": [
      "3619 1552\n",
      "Int64Index([1861, 2055, 1370, 1781, 4518, 3441, 3269, 4638,  499, 2132,\n",
      "            ...\n",
      "            3281,  342, 1910,  642, 2948, 2469, 2736, 1084, 3728, 2956],\n",
      "           dtype='int64', length=3619)\n"
     ]
    }
   ],
   "source": [
    "data = pd.read_csv(\"~/Desktop/mcc20192/mlearning/tareas/tarea2/nb_data/spam.csv\")\n",
    "\n",
    "train_data, test_data= train_test_split(data, test_size=0.30)\n",
    "print(len(train_data),len(test_data))\n",
    "print(train_data.index)"
   ]
  },
  {
   "cell_type": "code",
   "execution_count": 339,
   "metadata": {},
   "outputs": [
    {
     "name": "stdout",
     "output_type": "stream",
     "text": [
      "ok\n"
     ]
    }
   ],
   "source": [
    "def get_labels(df):\n",
    "    df_labels = np.zeros(len(df))\n",
    "    i = 0\n",
    "    for k in df.index:\n",
    "        if df.loc[k][0][-1] == '1':\n",
    "            df_labels[i] = 1\n",
    "        if df.loc[k][0][-1] == '0':\n",
    "            df_labels[i] = 0\n",
    "        i+= 1\n",
    "    return df_labels\n",
    "\n",
    "def get_matrix(df):\n",
    "    df_matrix = np.zeros(shape=(len(df),4001))\n",
    "    i = 0\n",
    "    for k in df.index:\n",
    "        listk = df.loc[k][0].split()\n",
    "        for j in range(0,len(listk)):\n",
    "                    df_matrix[i][j] = int(listk[j])\n",
    "        i =+ 1\n",
    "    return df_matrix\n",
    "\n",
    "# Preparación de el conjunto de entrenamiento\n",
    "train_matrix = get_matrix(train_data)\n",
    "train_labels = get_labels(train_data)\n",
    "\n",
    "# Preparación del conjunto de validación\n",
    "test_matrix = get_matrix(test_data)\n",
    "test_labels = get_labels(test_data)\n",
    "print('ok')"
   ]
  },
  {
   "cell_type": "code",
   "execution_count": 341,
   "metadata": {},
   "outputs": [
    {
     "name": "stdout",
     "output_type": "stream",
     "text": [
      "BernoulliNB(alpha=1.0, binarize=0.0, class_prior=None, fit_prior=True)\n",
      "GaussianNB(priors=None, var_smoothing=1e-09)\n",
      "MultinomialNB(alpha=1.0, class_prior=None, fit_prior=True)\n"
     ]
    }
   ],
   "source": [
    "# Proponemos los siguienes dos clasificadores\n",
    "bernoulli_classifier = BernoulliNB()\n",
    "normal_classifier = GaussianNB()\n",
    "multinomial_classifier = MultinomialNB()\n",
    "\n",
    "# Entrenamiento\n",
    "print(bernoulli_classifier.fit(train_matrix,train_labels))\n",
    "print(normal_classifier.fit(train_matrix,train_labels))\n",
    "print(multinomial_classifier.fit(train_matrix,train_labels))"
   ]
  },
  {
   "cell_type": "code",
   "execution_count": 343,
   "metadata": {},
   "outputs": [
    {
     "name": "stdout",
     "output_type": "stream",
     "text": [
      "Sobre el conjunto de validación\n",
      "467\n",
      "1085\n",
      "469\n",
      "Sobre el conjunto de entrenamiento\n",
      "1031\n",
      "2587\n",
      "1030\n"
     ]
    }
   ],
   "source": [
    "# Pruebas en el conjunto prueba\n",
    "test_bernoulli = bernoulli_classifier.predict(test_matrix)\n",
    "test_normal = normal_classifier.predict(test_matrix)\n",
    "test_multinomial = multinomial_classifier.predict(test_matrix)\n",
    "\n",
    "train_bernoulli = bernoulli_classifier.predict(train_matrix)\n",
    "train_normal = normal_classifier.predict(train_matrix)\n",
    "train_multinomial = multinomial_classifier.predict(train_matrix)\n",
    "\n",
    "def classification_errors(predicted,real):\n",
    "    s = 0\n",
    "    for i in range(0,len(predicted)):\n",
    "        if predicted[i] != real[i]:\n",
    "            s += 1\n",
    "    return s\n",
    "\n",
    "print('Sobre el conjunto de validación')    \n",
    "print(classification_errors(test_bernoulli,test_labels))\n",
    "print(classification_errors(test_normal,test_labels))\n",
    "print(classification_errors(test_multinomial,test_labels))\n",
    "\n",
    "print('Sobre el conjunto de entrenamiento')\n",
    "print(classification_errors(train_bernoulli,train_labels))\n",
    "print(classification_errors(train_normal,train_labels))\n",
    "print(classification_errors(train_multinomial,train_labels))\n",
    "\n",
    "#print confusion_matrix(test_labels,result_bernoulli)\n",
    "#print confusion_matrix(test_labels,result_normal)"
   ]
  }
 ],
 "metadata": {
  "kernelspec": {
   "display_name": "Python 3",
   "language": "python",
   "name": "python3"
  },
  "language_info": {
   "codemirror_mode": {
    "name": "ipython",
    "version": 3
   },
   "file_extension": ".py",
   "mimetype": "text/x-python",
   "name": "python",
   "nbconvert_exporter": "python",
   "pygments_lexer": "ipython3",
   "version": "3.7.1"
  }
 },
 "nbformat": 4,
 "nbformat_minor": 2
}
