{
 "cells": [
  {
   "cell_type": "code",
   "execution_count": 58,
   "metadata": {},
   "outputs": [],
   "source": [
    "import pandas as pd\n",
    "import numpy as np\n",
    "from sklearn.model_selection import train_test_split\n",
    "from sklearn.naive_bayes import  BernoulliNB, GaussianNB, MultinomialNB"
   ]
  },
  {
   "cell_type": "code",
   "execution_count": 78,
   "metadata": {},
   "outputs": [
    {
     "name": "stdout",
     "output_type": "stream",
     "text": [
      "[[5 1 1 ... 1 1 2]\n",
      " [5 4 4 ... 2 1 2]\n",
      " [3 1 1 ... 1 1 2]\n",
      " ...\n",
      " [5 10 10 ... 10 2 4]\n",
      " [4 8 6 ... 6 1 4]\n",
      " [4 8 8 ... 4 1 4]]\n",
      "489 210\n"
     ]
    },
    {
     "data": {
      "image/png": "[encoded data removed]",
      "text/plain": [
       "<Figure size 1152x720 with 9 Axes>"
      ]
     },
     "metadata": {
      "needs_background": "light"
     },
     "output_type": "display_data"
    }
   ],
   "source": [
    "data = pd.read_csv(\"~/Desktop/mcc20192/mlearning/tareas/tarea2/nb_data/breast-cancer-wisconsin.data\", header=None)\n",
    "pd.DataFrame.hist(data.iloc[0:,:-1], grid=False,bins=30,figsize=(16,10))\n",
    "data_matrix = data.values[0:,1:]\n",
    "print(data_matrix)\n",
    "\n",
    "#Partición aleatoria del conjunto de datos\n",
    "train_data, test_data= train_test_split(data_matrix, test_size=0.30, random_state=100)\n",
    "print(len(train_data),len(test_data))"
   ]
  },
  {
   "cell_type": "code",
   "execution_count": 60,
   "metadata": {},
   "outputs": [
    {
     "name": "stdout",
     "output_type": "stream",
     "text": [
      "24 6\n",
      "41 6\n",
      "140 6\n",
      "146 6\n",
      "159 6\n",
      "165 6\n",
      "236 6\n",
      "250 6\n",
      "276 6\n",
      "293 6\n",
      "295 6\n",
      "298 6\n",
      "316 6\n",
      "322 6\n",
      "412 6\n",
      "618 6\n"
     ]
    }
   ],
   "source": [
    "def vector_of_experimental_means(matrix):\n",
    "    means = np.zeros(9)\n",
    "    for j in range(0,9):\n",
    "        known_count = 0\n",
    "        s = 0    \n",
    "        for i in range(0,len(matrix)):\n",
    "            if matrix[i][j] != '?':\n",
    "                s += int(matrix[i][j])\n",
    "                known_count += 1\n",
    "            else: \n",
    "                print(i+1,j+1)\n",
    "            means[j] = s/known_count\n",
    "    return means\n",
    "\n",
    "means = vector_of_experimental_means(data_matrix[0:,0:-1])"
   ]
  },
  {
   "cell_type": "code",
   "execution_count": 61,
   "metadata": {},
   "outputs": [],
   "source": [
    "# Manejo de atributos desconocidos\n",
    "def replace_unknown(matrix,v):\n",
    "    for i in range(0,len(matrix)):\n",
    "        for j in range(0,8):\n",
    "            if matrix[i][j] == '?':\n",
    "                matrix[i][j] = v[j]\n",
    "    return matrix"
   ]
  },
  {
   "cell_type": "code",
   "execution_count": 62,
   "metadata": {},
   "outputs": [],
   "source": [
    "# Preparación del conjunto de entrenamiento con reemplazo de atributos desconocidos por medias\n",
    "train_matrix = replace_unknown(train_data[0:,0:-1],means)\n",
    "train_labels = train_data[0:,-1]\n",
    "train_labels=train_labels.astype('int')\n",
    "\n",
    "# Preparación del conjunto de validación con reemplazo de atributos desconocidos por medias\n",
    "test_matrix = replace_unknown(test_data[0:,0:-1],means)\n",
    "test_labels = test_data[0:,-1]\n",
    "test_labels=test_labels.astype('int')\n",
    "#print(train_matrix)\n",
    "#print(train_labels)\n",
    "#print(test_matrix)\n",
    "#print(test_labels)"
   ]
  },
  {
   "cell_type": "code",
   "execution_count": 63,
   "metadata": {},
   "outputs": [
    {
     "name": "stdout",
     "output_type": "stream",
     "text": [
      "BernoulliNB(alpha=1.0, binarize=1.0, class_prior=None, fit_prior=True)\n",
      "GaussianNB(priors=None, var_smoothing=1e-09)\n",
      "MultinomialNB(alpha=1.0, class_prior=None, fit_prior=True)\n"
     ]
    }
   ],
   "source": [
    "# Proponemos los siguientes clasificadores\n",
    "bernoulli_classifier = BernoulliNB(binarize = 1.0)\n",
    "normal_classifier = GaussianNB()\n",
    "multinomial_classifier = MultinomialNB()\n",
    "\n",
    "# Entrenamiento\n",
    "print(bernoulli_classifier.fit(train_matrix,train_labels))\n",
    "print(normal_classifier.fit(train_matrix,train_labels))\n",
    "print(multinomial_classifier.fit(train_matrix,train_labels))"
   ]
  },
  {
   "cell_type": "code",
   "execution_count": 64,
   "metadata": {},
   "outputs": [
    {
     "name": "stdout",
     "output_type": "stream",
     "text": [
      "Sobre el conjunto de validación\n",
      "14\n",
      "12\n",
      "30\n",
      "Sobre el conjunto de entrenamiento\n",
      "27\n",
      "14\n",
      "46\n"
     ]
    }
   ],
   "source": [
    "# Pruebas en el conjunto de validación\n",
    "test_bernoulli = bernoulli_classifier.predict(test_matrix)\n",
    "test_normal = normal_classifier.predict(test_matrix)\n",
    "test_multinomial = multinomial_classifier.predict(test_matrix)\n",
    "\n",
    "# Pruebas en el conjunto de validación\n",
    "train_bernoulli = bernoulli_classifier.predict(train_matrix)\n",
    "train_normal = normal_classifier.predict(train_matrix)\n",
    "train_multinomial = multinomial_classifier.predict(train_matrix)\n",
    "\n",
    "def classification_errors(predicted,real):\n",
    "    s = 0\n",
    "    for i in range(0,len(predicted)):\n",
    "        if predicted[i] != real[i]:\n",
    "            s += 1\n",
    "    return s\n",
    "\n",
    "print('Sobre el conjunto de validación')    \n",
    "print(classification_errors(test_bernoulli,test_labels))\n",
    "print(classification_errors(test_normal,test_labels))\n",
    "print(classification_errors(test_multinomial,test_labels))\n",
    "\n",
    "print('Sobre el conjunto de entrenamiento')\n",
    "print(classification_errors(train_bernoulli,train_labels))\n",
    "print(classification_errors(train_normal,train_labels))\n",
    "print(classification_errors(train_multinomial,train_labels))"
   ]
  },
  {
   "cell_type": "code",
   "execution_count": 65,
   "metadata": {},
   "outputs": [],
   "source": [
    "# Preparación del conjunto de entrenamiento con reemplazo de atributos desconocidos por 0's\n",
    "train_matrix = replace_unknown(train_data[0:,0:-1],np.zeros(9))\n",
    "train_labels = train_data[0:,-1]\n",
    "train_labels=train_labels.astype('int')\n",
    "\n",
    "# Preparación del conjunto de validación con reemplazo de atributos desconocidos por 0's\n",
    "test_matrix = replace_unknown(test_data[0:,0:-1],np.zeros(9))\n",
    "test_labels = test_data[0:,-1]\n",
    "test_labels=test_labels.astype('int')\n",
    "#print(train_matrix)\n",
    "#print(train_labels)\n",
    "#print(test_matrix)\n",
    "#print(test_labels)"
   ]
  },
  {
   "cell_type": "code",
   "execution_count": 66,
   "metadata": {},
   "outputs": [
    {
     "name": "stdout",
     "output_type": "stream",
     "text": [
      "BernoulliNB(alpha=1.0, binarize=1.0, class_prior=None, fit_prior=True)\n",
      "GaussianNB(priors=None, var_smoothing=1e-09)\n",
      "MultinomialNB(alpha=1.0, class_prior=None, fit_prior=True)\n"
     ]
    }
   ],
   "source": [
    "# Proponemos los siguientes clasificadores\n",
    "bernoulli_classifier = BernoulliNB(binarize = 1.0)\n",
    "normal_classifier = GaussianNB()\n",
    "multinomial_classifier = MultinomialNB()\n",
    "\n",
    "# Entrenamiento\n",
    "print(bernoulli_classifier.fit(train_matrix,train_labels))\n",
    "print(normal_classifier.fit(train_matrix,train_labels))\n",
    "print(multinomial_classifier.fit(train_matrix,train_labels))"
   ]
  },
  {
   "cell_type": "code",
   "execution_count": 67,
   "metadata": {},
   "outputs": [
    {
     "name": "stdout",
     "output_type": "stream",
     "text": [
      "Sobre el conjunto de validación\n",
      "14\n",
      "12\n",
      "30\n",
      "Sobre el conjunto de entrenamiento\n",
      "27\n",
      "14\n",
      "46\n"
     ]
    }
   ],
   "source": [
    "# Pruebas en el conjunto de validación\n",
    "test_bernoulli = bernoulli_classifier.predict(test_matrix)\n",
    "test_normal = normal_classifier.predict(test_matrix)\n",
    "test_multinomial = multinomial_classifier.predict(test_matrix)\n",
    "\n",
    "# Pruebas en el conjunto de validación\n",
    "train_bernoulli = bernoulli_classifier.predict(train_matrix)\n",
    "train_normal = normal_classifier.predict(train_matrix)\n",
    "train_multinomial = multinomial_classifier.predict(train_matrix)\n",
    "\n",
    "def classification_errors(predicted,real):\n",
    "    s = 0\n",
    "    for i in range(0,len(predicted)):\n",
    "        if predicted[i] != real[i]:\n",
    "            s += 1\n",
    "    return s\n",
    "\n",
    "print('Sobre el conjunto de validación')    \n",
    "print(classification_errors(test_bernoulli,test_labels))\n",
    "print(classification_errors(test_normal,test_labels))\n",
    "print(classification_errors(test_multinomial,test_labels))\n",
    "\n",
    "print('Sobre el conjunto de entrenamiento')\n",
    "print(classification_errors(train_bernoulli,train_labels))\n",
    "print(classification_errors(train_normal,train_labels))\n",
    "print(classification_errors(train_multinomial,train_labels))"
   ]
  }
 ],
 "metadata": {
  "kernelspec": {
   "display_name": "Python 3",
   "language": "python",
   "name": "python3"
  },
  "language_info": {
   "codemirror_mode": {
    "name": "ipython",
    "version": 3
   },
   "file_extension": ".py",
   "mimetype": "text/x-python",
   "name": "python",
   "nbconvert_exporter": "python",
   "pygments_lexer": "ipython3",
   "version": "3.7.1"
  }
 },
 "nbformat": 4,
 "nbformat_minor": 2
}
