{
 "cells": [
  {
   "cell_type": "code",
   "execution_count": 1,
   "metadata": {},
   "outputs": [],
   "source": [
    "import pandas as pd\n",
    "import numpy as np\n",
    "from sklearn.model_selection import train_test_split\n",
    "from sklearn.naive_bayes import  BernoulliNB, GaussianNB, MultinomialNB"
   ]
  },
  {
   "cell_type": "code",
   "execution_count": 27,
   "metadata": {},
   "outputs": [
    {
     "name": "stdout",
     "output_type": "stream",
     "text": [
      "489 210\n",
      "Int64Index([285,  71, 519, 407, 603, 302, 104, 631, 188, 516,\n",
      "            ...\n",
      "            472,  70, 599, 277,   9, 359, 192, 629, 559, 684],\n",
      "           dtype='int64', length=489)\n"
     ]
    }
   ],
   "source": [
    "data = pd.read_csv(\"~/Desktop/mcc20192/mlearning/tareas/tarea2/nb_data/breast-cancer-wisconsin.data\")\n",
    "data\n",
    "\n",
    "# Preparation of data\n",
    "#Partición aleatoria del conjunto de datos\n",
    "train_data, test_data= train_test_split(data, test_size=0.30, random_state=0)\n",
    "print(len(train_data),len(test_data))\n",
    "print(train_data.index)"
   ]
  },
  {
   "cell_type": "code",
   "execution_count": 28,
   "metadata": {},
   "outputs": [
    {
     "name": "stdout",
     "output_type": "stream",
     "text": [
      "[4.41773963 3.13447783 3.2074392  2.80686695 3.21602289 3.54465593\n",
      " 3.43776824 2.86695279 1.58941345]\n"
     ]
    }
   ],
   "source": [
    "def vector_of_experimental_means(df):\n",
    "    means = np.zeros(9)\n",
    "    for i in range(1,10):\n",
    "        known_count = 0\n",
    "        s = 0\n",
    "        j = 0\n",
    "        for k in df.index:\n",
    "            if df.loc[k][i] != '?':\n",
    "                s += int(df.loc[k][i])\n",
    "                known_count += 1\n",
    "                j += 1\n",
    "        means[i-1] = s/known_count\n",
    "    return means\n",
    "\n",
    "means = vector_of_experimental_means(data)\n",
    "print(means)"
   ]
  },
  {
   "cell_type": "code",
   "execution_count": 29,
   "metadata": {},
   "outputs": [
    {
     "name": "stdout",
     "output_type": "stream",
     "text": [
      "489 489\n",
      "210 210\n",
      "ok\n"
     ]
    }
   ],
   "source": [
    "def get_labels(df):\n",
    "    df_labels = np.zeros(len(df))\n",
    "    i = 0\n",
    "    for k in df.index:\n",
    "        df_labels[i] = df.loc[k][-1] \n",
    "        i+= 1\n",
    "    return df_labels\n",
    "\n",
    "# Matriz cuyas entradas desconocidas son reemplazadas por la media experimental del atributo al que corresponden\n",
    "def get_matrix(df):\n",
    "    df_matrix = np.zeros(shape=(len(df),9))\n",
    "    i = 0\n",
    "    for k in df.index:\n",
    "        for j in range(1,len(df.loc[k])-1):\n",
    "            if df.loc[k][j] != '?':\n",
    "                df_matrix[i][j-1] = df.loc[k][j]\n",
    "            else:\n",
    "                df_matrix[i][j-1] = means[j-1]\n",
    "        i += 1\n",
    "    return df_matrix\n",
    "\n",
    "# Preparación del conjunto de entrenamiento\n",
    "train_labels = get_labels(train_data)\n",
    "train_matrix = get_matrix(train_data)\n",
    "print(len(train_matrix),len(train_labels))\n",
    "\n",
    "#print(train_data,train_matrix,train_labels)\n",
    "\n",
    "# Preparación del conjunto de validación\n",
    "test_labels = get_labels(test_data)\n",
    "test_matrix = get_matrix(test_data)\n",
    "print(len(test_matrix),len(test_labels))\n",
    "print('ok')"
   ]
  },
  {
   "cell_type": "code",
   "execution_count": 30,
   "metadata": {},
   "outputs": [
    {
     "name": "stdout",
     "output_type": "stream",
     "text": [
      "BernoulliNB(alpha=1.0, binarize=0.0, class_prior=None, fit_prior=True)\n",
      "GaussianNB(priors=None, var_smoothing=1e-09)\n",
      "MultinomialNB(alpha=1.0, class_prior=None, fit_prior=True)\n"
     ]
    }
   ],
   "source": [
    "# Proponemos los siguientes clasificadores\n",
    "bernoulli_classifier = BernoulliNB()\n",
    "normal_classifier = GaussianNB()\n",
    "multinomial_classifier = MultinomialNB()\n",
    "\n",
    "# Entrenamiento\n",
    "print(bernoulli_classifier.fit(train_matrix,train_labels))\n",
    "print(normal_classifier.fit(train_matrix,train_labels))\n",
    "print(multinomial_classifier.fit(train_matrix,train_labels))"
   ]
  },
  {
   "cell_type": "code",
   "execution_count": 31,
   "metadata": {},
   "outputs": [
    {
     "name": "stdout",
     "output_type": "stream",
     "text": [
      "Sobre el conjunto de validación\n",
      "75\n",
      "13\n",
      "28\n",
      "Sobre el conjunto de entrenamiento\n",
      "166\n",
      "13\n",
      "51\n"
     ]
    }
   ],
   "source": [
    "# Pruebas en el conjunto de validación\n",
    "test_bernoulli = bernoulli_classifier.predict(test_matrix)\n",
    "test_normal = normal_classifier.predict(test_matrix)\n",
    "test_multinomial = multinomial_classifier.predict(test_matrix)\n",
    "\n",
    "# Pruebas en el conjunto de validación\n",
    "train_bernoulli = bernoulli_classifier.predict(train_matrix)\n",
    "train_normal = normal_classifier.predict(train_matrix)\n",
    "train_multinomial = multinomial_classifier.predict(train_matrix)\n",
    "\n",
    "def classification_errors(predicted,real):\n",
    "    s = 0\n",
    "    for i in range(0,len(predicted)):\n",
    "        if predicted[i] != real[i]:\n",
    "            s += 1\n",
    "    return s\n",
    "\n",
    "print('Sobre el conjunto de validación')    \n",
    "print(classification_errors(test_bernoulli,test_labels))\n",
    "print(classification_errors(test_normal,test_labels))\n",
    "print(classification_errors(test_multinomial,test_labels))\n",
    "\n",
    "print('Sobre el conjunto de entrenamiento')\n",
    "print(classification_errors(train_bernoulli,train_labels))\n",
    "print(classification_errors(train_normal,train_labels))\n",
    "print(classification_errors(train_multinomial,train_labels))"
   ]
  }
 ],
 "metadata": {
  "kernelspec": {
   "display_name": "Python 3",
   "language": "python",
   "name": "python3"
  },
  "language_info": {
   "codemirror_mode": {
    "name": "ipython",
    "version": 3
   },
   "file_extension": ".py",
   "mimetype": "text/x-python",
   "name": "python",
   "nbconvert_exporter": "python",
   "pygments_lexer": "ipython3",
   "version": "3.7.1"
  }
 },
 "nbformat": 4,
 "nbformat_minor": 2
}
