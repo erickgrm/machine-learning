{
 "cells": [
  {
   "cell_type": "code",
   "execution_count": 4,
   "metadata": {},
   "outputs": [],
   "source": [
    "import pandas as pd\n",
    "import numpy as np\n",
    "import matplotlib.pyplot as plt\n",
    "from sklearn.model_selection import train_test_split"
   ]
  },
  {
   "cell_type": "code",
   "execution_count": 5,
   "metadata": {},
   "outputs": [],
   "source": [
    "data = pd.read_csv(\"~/Desktop/mcc20192/alggen/ags/vnnd/mlptrain.csv\", header=None).iloc[0:,:-3].values\n",
    "data\n",
    "train_data = data\n",
    "#train_data, test_data= train_test_split(data, test_size=0.30, random_state=0)\n",
    "#print(len(train_data),len(test_data))"
   ]
  },
  {
   "cell_type": "code",
   "execution_count": 6,
   "metadata": {},
   "outputs": [],
   "source": [
    "ys = pd.read_csv(\"~/Desktop/mcc20192/alggen/ags/vnnd/mlptrain.csv\", header=None).iloc[0:,-3:].values\n",
    "labels = np.zeros(160)\n",
    "for i in range(0,160):\n",
    "    if ys[i][0] == 1:\n",
    "        labels[i] = 0\n",
    "    if ys[i][1] == 1:\n",
    "        labels[i] = 1\n",
    "    if ys[i][2] == 1:\n",
    "        labels[i] = 2\n",
    "labels\n",
    "\n",
    "def correct_labels(predicted):\n",
    "    counter = 0\n",
    "    for i in range(0,160):\n",
    "        if labels[i] == predicted[i]:\n",
    "            counter += 1\n",
    "    return counter"
   ]
  },
  {
   "cell_type": "code",
   "execution_count": 7,
   "metadata": {},
   "outputs": [],
   "source": [
    "from sklearn.cluster import KMeans\n",
    "kmeans = KMeans(n_clusters=3, random_state=0).fit(train_data)"
   ]
  },
  {
   "cell_type": "code",
   "execution_count": 8,
   "metadata": {},
   "outputs": [
    {
     "data": {
      "text/plain": [
       "array([0, 0, 0, 0, 0, 0, 0, 0, 0, 0, 0, 0, 0, 0, 0, 0, 0, 0, 0, 0, 0, 0,\n",
       "       0, 0, 0, 0, 0, 0, 0, 0, 0, 0, 0, 0, 0, 0, 0, 0, 0, 0, 0, 0, 0, 0,\n",
       "       0, 0, 0, 0, 0, 0, 0, 0, 0, 1, 1, 1, 1, 1, 1, 1, 1, 1, 1, 2, 1, 1,\n",
       "       1, 1, 1, 1, 1, 1, 1, 1, 1, 1, 1, 1, 1, 1, 1, 1, 1, 1, 1, 1, 1, 1,\n",
       "       1, 1, 1, 1, 1, 1, 1, 1, 1, 1, 1, 1, 1, 1, 1, 1, 1, 1, 1, 1, 1, 1,\n",
       "       1, 1, 1, 1, 1, 1, 1, 1, 2, 2, 2, 2, 2, 2, 2, 2, 2, 2, 2, 2, 2, 2,\n",
       "       2, 2, 2, 2, 2, 2, 2, 2, 2, 2, 2, 2, 2, 2, 2, 2, 2, 2, 2, 2, 2, 2,\n",
       "       2, 2, 2, 2, 2, 2], dtype=int32)"
      ]
     },
     "execution_count": 8,
     "metadata": {},
     "output_type": "execute_result"
    }
   ],
   "source": [
    "kmeans.labels_"
   ]
  },
  {
   "cell_type": "code",
   "execution_count": 9,
   "metadata": {},
   "outputs": [
    {
     "data": {
      "text/plain": [
       "159"
      ]
     },
     "execution_count": 9,
     "metadata": {},
     "output_type": "execute_result"
    }
   ],
   "source": [
    "correct_labels(kmeans.predict(data))"
   ]
  },
  {
   "cell_type": "code",
   "execution_count": 10,
   "metadata": {},
   "outputs": [],
   "source": [
    "#Implementation of vnnd clustering\n",
    "nc = 3 # number of clusters\n",
    "def distance(p,q):\n",
    "    s = 0.0\n",
    "    for i in range(0,len(p)):\n",
    "        s += (p[i] - q[i])**2\n",
    "    return np.sqrt(s)\n",
    "\n",
    "# cluster is an array of indices\n",
    "# x an index \n",
    "def dmin(x, cluster): \n",
    "    mindist = 13\n",
    "    for y in cluster:\n",
    "        if y != x and distance(train_data[x],  train_data[y]) < mindist:\n",
    "            mindist = distance(train_data[x], train_data[y])\n",
    "    if mindist < 13:\n",
    "        return mindist\n",
    "    else: return 0\n",
    "    \n",
    "def dmin_bar(cluster):\n",
    "    dmin_sum = 0.0\n",
    "    for x in cluster:\n",
    "        dmin_sum += dmin(x,cluster)\n",
    "    return dmin_sum/len(cluster)\n",
    "\n",
    "def v(cluster):\n",
    "    v_of_cluster = 0.0\n",
    "    dmin_bar_of_cluster = dmin_bar(cluster)\n",
    "    for x in cluster:\n",
    "        v_of_cluster += (dmin(x,cluster) - dmin_bar_of_cluster)**2\n",
    "    return v_of_cluster/(len(cluster)-1)\n",
    "    \n",
    "def vnnd(clusters):\n",
    "    v_sum = 0.0\n",
    "    for C in clusters:\n",
    "        v_sum += v(C)\n",
    "    return v_sum        "
   ]
  },
  {
   "cell_type": "code",
   "execution_count": 75,
   "metadata": {},
   "outputs": [],
   "source": [
    "import random\n",
    "W = 160\n",
    "\n",
    "def startPopulation(N):\n",
    "    population = np.ndarray(shape=(N,W))\n",
    "    for i in range(0,N):\n",
    "        for j in range(0,W):\n",
    "            population[i][j] = random.randint(0,2)\n",
    "    return population            \n",
    "            \n",
    "def anularCrossover(population):\n",
    "    new1 = np.zeros(W)\n",
    "    new2 = np.zeros(W)\n",
    "    N = len(population)    \n",
    "    for i in range(0, int(len(population)/2)):\n",
    "        x = random.randint(0, W-1)\n",
    "        y = random.randint(0, W-1)\n",
    "        if y < x: \n",
    "            swap = x\n",
    "            x = y\n",
    "            y = swap\n",
    "        print(x,y)\n",
    "        for j in range(0, x):\n",
    "            new1[j] = population[i][j]\n",
    "            new2[j] = population[N-i-1][j]\n",
    "        for j in range(x,y): \n",
    "            new1[j] = population[N-i-1][j]\n",
    "            new2[j] = population[i][j]\n",
    "        for j in range(y,W): \n",
    "            new1[j] = population[i][j]\n",
    "            new2[j] = population[N-i-1][j]\n",
    "        population[i] = new1\n",
    "        population[N-i-1] = new2\n",
    "    return population\n",
    "\n",
    "def uniformMutation(population):\n",
    "    for individual in population:\n",
    "        # 8 is the expeted number of entries to mutate for pm = 0.05\n",
    "        for m in range(0,8):\n",
    "            j = random.randint(0,W-1)\n",
    "            if individual[j] == 0:\n",
    "                if random.uniform(0,1) < 0.5:\n",
    "                    individual[j] = 1\n",
    "                else: \n",
    "                    individual[j] = 2\n",
    "            if individual[j] == 1:\n",
    "                if random.uniform(0,1) < 0.5:\n",
    "                    individual[j] = 0\n",
    "                else: \n",
    "                    individual[j] = 2\n",
    "            else: \n",
    "                if random.uniform(0,1) < 0.5:\n",
    "                    individual[j] = 0\n",
    "                else: \n",
    "                    individual[j] = 1\n",
    "    return population\n",
    "            \n",
    "            \n",
    "            \n",
    "                \n",
    "        \n",
    "    \n",
    "#def EGAvnnd:\n",
    "\n"
   ]
  },
  {
   "cell_type": "code",
   "execution_count": 76,
   "metadata": {},
   "outputs": [
    {
     "name": "stdout",
     "output_type": "stream",
     "text": [
      "[[0. 0. 2. 0. 0. 1. 1. 1. 1. 2. 1. 2. 1. 0. 0. 0. 2. 2. 2. 1. 1. 0. 2. 2.\n",
      "  2. 2. 1. 0. 0. 0. 0. 1. 2. 2. 0. 2. 2. 0. 2. 1. 2. 2. 2. 1. 2. 0. 0. 1.\n",
      "  2. 2. 0. 1. 2. 0. 1. 0. 1. 1. 2. 0. 2. 1. 1. 1. 2. 0. 0. 2. 0. 0. 0. 0.\n",
      "  0. 2. 2. 0. 2. 0. 1. 0. 1. 2. 0. 0. 1. 0. 1. 1. 0. 1. 2. 0. 1. 2. 1. 1.\n",
      "  2. 1. 2. 2. 1. 2. 0. 1. 2. 1. 0. 2. 1. 1. 2. 1. 1. 1. 0. 0. 0. 2. 1. 1.\n",
      "  0. 2. 0. 2. 1. 0. 0. 0. 1. 2. 2. 2. 2. 1. 1. 2. 2. 1. 1. 1. 0. 0. 0. 2.\n",
      "  0. 2. 1. 0. 1. 0. 0. 0. 0. 0. 0. 0. 1. 0. 1. 0.]\n",
      " [2. 1. 0. 0. 0. 1. 2. 1. 1. 1. 0. 2. 1. 0. 0. 0. 2. 2. 2. 1. 2. 1. 1. 0.\n",
      "  1. 1. 0. 2. 2. 0. 0. 0. 2. 0. 1. 2. 0. 2. 1. 1. 1. 1. 2. 0. 0. 0. 2. 1.\n",
      "  0. 2. 1. 2. 2. 0. 2. 0. 2. 0. 1. 0. 2. 1. 1. 2. 1. 0. 2. 0. 0. 2. 0. 1.\n",
      "  0. 2. 1. 2. 1. 2. 2. 0. 2. 1. 1. 0. 1. 0. 1. 2. 0. 1. 1. 2. 2. 2. 0. 0.\n",
      "  0. 1. 0. 1. 2. 2. 0. 1. 2. 0. 2. 1. 0. 0. 1. 0. 0. 1. 2. 2. 2. 1. 1. 1.\n",
      "  1. 0. 0. 0. 1. 0. 0. 0. 0. 0. 1. 0. 2. 2. 2. 0. 0. 1. 2. 1. 0. 1. 1. 2.\n",
      "  0. 0. 0. 0. 1. 2. 1. 2. 1. 1. 1. 1. 0. 1. 1. 0.]]\n",
      "[[0. 0. 2. 0. 0. 1. 1. 1. 1. 2. 1. 2. 1. 0. 0. 0. 2. 2. 2. 1. 1. 2. 2. 2.\n",
      "  2. 2. 1. 0. 1. 0. 0. 1. 2. 2. 0. 2. 1. 0. 2. 1. 2. 2. 2. 1. 2. 0. 0. 1.\n",
      "  2. 1. 0. 1. 2. 0. 1. 0. 1. 1. 2. 0. 2. 1. 1. 1. 2. 0. 0. 2. 0. 0. 0. 0.\n",
      "  0. 2. 2. 0. 2. 0. 1. 0. 1. 2. 0. 0. 1. 0. 1. 1. 0. 1. 1. 0. 1. 0. 1. 1.\n",
      "  2. 1. 2. 2. 1. 2. 0. 1. 2. 1. 0. 2. 1. 2. 2. 1. 1. 1. 0. 0. 0. 2. 2. 1.\n",
      "  0. 2. 0. 2. 1. 0. 0. 0. 1. 2. 2. 2. 2. 1. 1. 2. 2. 1. 1. 1. 0. 0. 0. 2.\n",
      "  0. 2. 1. 0. 1. 0. 0. 0. 0. 0. 0. 0. 1. 0. 1. 0.]\n",
      " [2. 1. 0. 0. 0. 1. 2. 1. 1. 0. 0. 2. 1. 0. 0. 0. 2. 2. 2. 1. 2. 1. 1. 0.\n",
      "  1. 1. 2. 2. 2. 0. 0. 0. 0. 0. 1. 2. 0. 0. 1. 1. 1. 1. 2. 0. 0. 2. 2. 1.\n",
      "  0. 2. 1. 2. 2. 0. 2. 0. 2. 0. 1. 0. 2. 1. 1. 2. 1. 0. 2. 0. 0. 2. 0. 1.\n",
      "  0. 2. 1. 2. 1. 2. 2. 0. 2. 1. 1. 0. 1. 0. 0. 2. 0. 1. 1. 2. 2. 2. 0. 0.\n",
      "  0. 1. 0. 1. 2. 2. 0. 1. 2. 0. 2. 1. 0. 0. 1. 0. 0. 1. 2. 2. 2. 1. 1. 1.\n",
      "  1. 0. 0. 0. 1. 0. 0. 0. 0. 0. 1. 0. 2. 2. 2. 0. 0. 1. 2. 1. 0. 1. 1. 2.\n",
      "  0. 0. 0. 0. 1. 2. 1. 2. 1. 1. 1. 1. 0. 1. 2. 0.]]\n"
     ]
    }
   ],
   "source": [
    "population = startPopulation(2)\n",
    "print(population)\n",
    "print(uniformMutation(population))"
   ]
  },
  {
   "cell_type": "code",
   "execution_count": 57,
   "metadata": {},
   "outputs": [
    {
     "name": "stdout",
     "output_type": "stream",
     "text": [
      "4 5\n"
     ]
    },
    {
     "data": {
      "text/plain": [
       "array([[2., 2., 0., 0., 0., 0., 0., 1., 1., 1.],\n",
       "       [1., 0., 2., 0., 1., 0., 1., 2., 2., 1.]])"
      ]
     },
     "execution_count": 57,
     "metadata": {},
     "output_type": "execute_result"
    }
   ],
   "source": [
    "anularCrossover(population)"
   ]
  }
 ],
 "metadata": {
  "kernelspec": {
   "display_name": "Python 3",
   "language": "python",
   "name": "python3"
  },
  "language_info": {
   "codemirror_mode": {
    "name": "ipython",
    "version": 3
   },
   "file_extension": ".py",
   "mimetype": "text/x-python",
   "name": "python",
   "nbconvert_exporter": "python",
   "pygments_lexer": "ipython3",
   "version": "3.7.1"
  }
 },
 "nbformat": 4,
 "nbformat_minor": 2
}
