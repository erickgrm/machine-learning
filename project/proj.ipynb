{
 "cells": [
  {
   "cell_type": "markdown",
   "metadata": {},
   "source": [
    "# Entrenamiento con todos los atributos\n",
    "Se aplica one-hot-encoding a los datos categóricos para posteriormente entrenar:\n",
    "1. Un modelo por regresión logística\n",
    "2. Un modelo por máquinas de soporte vectorial\n",
    "\n",
    "En cada caso se selecciona un mejor modelo por 10-fold cross validation y se comparan los modelos obtenidos. \n",
    "\n",
    "Iniciamos por cargar la base de datos. "
   ]
  },
  {
   "cell_type": "code",
   "execution_count": 2,
   "metadata": {},
   "outputs": [
    {
     "data": {
      "text/html": [
       "<div>\n",
       "<style scoped>\n",
       "    .dataframe tbody tr th:only-of-type {\n",
       "        vertical-align: middle;\n",
       "    }\n",
       "\n",
       "    .dataframe tbody tr th {\n",
       "        vertical-align: top;\n",
       "    }\n",
       "\n",
       "    .dataframe thead th {\n",
       "        text-align: right;\n",
       "    }\n",
       "</style>\n",
       "<table border=\"1\" class=\"dataframe\">\n",
       "  <thead>\n",
       "    <tr style=\"text-align: right;\">\n",
       "      <th></th>\n",
       "      <th>flag</th>\n",
       "      <th>gender</th>\n",
       "      <th>education</th>\n",
       "      <th>house_val</th>\n",
       "      <th>age</th>\n",
       "      <th>online</th>\n",
       "      <th>customer_psy</th>\n",
       "      <th>marriage</th>\n",
       "      <th>child</th>\n",
       "      <th>occupation</th>\n",
       "      <th>mortgage</th>\n",
       "      <th>house_owner</th>\n",
       "      <th>region</th>\n",
       "      <th>car_prob</th>\n",
       "      <th>fam_income</th>\n",
       "    </tr>\n",
       "  </thead>\n",
       "  <tbody>\n",
       "    <tr>\n",
       "      <th>0</th>\n",
       "      <td>1</td>\n",
       "      <td>1</td>\n",
       "      <td>0.75</td>\n",
       "      <td>0.024869</td>\n",
       "      <td>6upto65</td>\n",
       "      <td>1</td>\n",
       "      <td>B</td>\n",
       "      <td>1</td>\n",
       "      <td>N</td>\n",
       "      <td>Professional</td>\n",
       "      <td>2Med</td>\n",
       "      <td>1</td>\n",
       "      <td>West</td>\n",
       "      <td>0.1</td>\n",
       "      <td>0.545455</td>\n",
       "    </tr>\n",
       "    <tr>\n",
       "      <th>1</th>\n",
       "      <td>0</td>\n",
       "      <td>1</td>\n",
       "      <td>0.75</td>\n",
       "      <td>0.041693</td>\n",
       "      <td>5upto55</td>\n",
       "      <td>1</td>\n",
       "      <td>C</td>\n",
       "      <td>1</td>\n",
       "      <td>Y</td>\n",
       "      <td>Professional</td>\n",
       "      <td>1Low</td>\n",
       "      <td>1</td>\n",
       "      <td>South</td>\n",
       "      <td>0.2</td>\n",
       "      <td>0.727273</td>\n",
       "    </tr>\n",
       "    <tr>\n",
       "      <th>2</th>\n",
       "      <td>1</td>\n",
       "      <td>1</td>\n",
       "      <td>0.75</td>\n",
       "      <td>0.024569</td>\n",
       "      <td>4upto45</td>\n",
       "      <td>0</td>\n",
       "      <td>F</td>\n",
       "      <td>1</td>\n",
       "      <td>U</td>\n",
       "      <td>Blue Collar</td>\n",
       "      <td>1Low</td>\n",
       "      <td>1</td>\n",
       "      <td>South</td>\n",
       "      <td>0.3</td>\n",
       "      <td>0.363636</td>\n",
       "    </tr>\n",
       "    <tr>\n",
       "      <th>3</th>\n",
       "      <td>1</td>\n",
       "      <td>1</td>\n",
       "      <td>0.50</td>\n",
       "      <td>0.036059</td>\n",
       "      <td>5upto55</td>\n",
       "      <td>1</td>\n",
       "      <td>C</td>\n",
       "      <td>1</td>\n",
       "      <td>Y</td>\n",
       "      <td>Professional</td>\n",
       "      <td>3High</td>\n",
       "      <td>1</td>\n",
       "      <td>Midwest</td>\n",
       "      <td>0.1</td>\n",
       "      <td>0.818182</td>\n",
       "    </tr>\n",
       "    <tr>\n",
       "      <th>4</th>\n",
       "      <td>1</td>\n",
       "      <td>0</td>\n",
       "      <td>0.00</td>\n",
       "      <td>0.016288</td>\n",
       "      <td>1_Unk</td>\n",
       "      <td>1</td>\n",
       "      <td>G</td>\n",
       "      <td>1</td>\n",
       "      <td>Y</td>\n",
       "      <td>Professional</td>\n",
       "      <td>1Low</td>\n",
       "      <td>0</td>\n",
       "      <td>South</td>\n",
       "      <td>0.7</td>\n",
       "      <td>0.181818</td>\n",
       "    </tr>\n",
       "  </tbody>\n",
       "</table>\n",
       "</div>"
      ],
      "text/plain": [
       "   flag  gender  education  house_val      age  online customer_psy  marriage  \\\n",
       "0     1       1       0.75   0.024869  6upto65       1            B         1   \n",
       "1     0       1       0.75   0.041693  5upto55       1            C         1   \n",
       "2     1       1       0.75   0.024569  4upto45       0            F         1   \n",
       "3     1       1       0.50   0.036059  5upto55       1            C         1   \n",
       "4     1       0       0.00   0.016288    1_Unk       1            G         1   \n",
       "\n",
       "  child    occupation mortgage  house_owner   region  car_prob  fam_income  \n",
       "0     N  Professional     2Med            1     West       0.1    0.545455  \n",
       "1     Y  Professional     1Low            1    South       0.2    0.727273  \n",
       "2     U   Blue Collar     1Low            1    South       0.3    0.363636  \n",
       "3     Y  Professional    3High            1  Midwest       0.1    0.818182  \n",
       "4     Y  Professional     1Low            0    South       0.7    0.181818  "
      ]
     },
     "execution_count": 2,
     "metadata": {},
     "output_type": "execute_result"
    }
   ],
   "source": [
    "import pandas as pd\n",
    "import numpy as np\n",
    "from sklearn.metrics import classification_report\n",
    "from sklearn.metrics import confusion_matrix\n",
    "\n",
    "# Load already preprocessed dataset\n",
    "dF = pd.read_csv(\"prep_sales_data.csv\")\n",
    "dF.head(5)"
   ]
  },
  {
   "cell_type": "code",
   "execution_count": 3,
   "metadata": {},
   "outputs": [],
   "source": [
    "# Labels vector and features matrix\n",
    "y = dF.flag\n",
    "X = pd.get_dummies(dF.drop(columns = 'flag', axis = 1))"
   ]
  },
  {
   "cell_type": "markdown",
   "metadata": {},
   "source": [
    "# Regresión logística\n",
    "Ahora obtenemos un modelo por regresión logística. La elección del modelo se hace por 10-fold cross validation"
   ]
  },
  {
   "cell_type": "code",
   "execution_count": 4,
   "metadata": {},
   "outputs": [],
   "source": [
    "# Import scikit-learn modules and generate instance of regression model\n",
    "from sklearn.linear_model import LogisticRegressionCV\n",
    "from sklearn  import metrics\n",
    "logistic_reg = LogisticRegressionCV(cv = 10, random_state = 1, max_iter = 150)\n",
    "\n",
    "# Train model on X and y, and automatically select best after cross-validation\n",
    "logistic_reg_model = logistic_reg.fit(X, y)"
   ]
  },
  {
   "cell_type": "code",
   "execution_count": 5,
   "metadata": {},
   "outputs": [
    {
     "name": "stdout",
     "output_type": "stream",
     "text": [
      "Coeficientes del modelo: \n",
      " [[-0.80164737  0.66627807  0.78684295  0.66600931 -0.20670227  0.04372072\n",
      "  -0.75978905  0.37723813  0.00994293 -0.68805103  0.18337929  0.36995366\n",
      "   0.3693824   0.10829249 -0.3603389   0.23013478  0.14752304  0.31637954\n",
      "  -0.13685667  0.17763823 -0.0113811  -0.10283323 -0.22521224 -0.22852157\n",
      "  -0.17430994 -0.01551017  0.06837687 -0.06030585 -0.11251318 -0.34860262\n",
      "   0.07804721  0.35713845 -0.05692572  0.07541671 -0.25768302  0.07374792\n",
      "   0.17649596 -0.15072725 -0.09469509  0.23113718  0.02865395 -0.02180794]]\n",
      "Score sobre el conjunto de datos completo: 0.6998047372442482\n",
      "AUC = 0.6874985240578948\n",
      "Cualidades de la clasificación:\n",
      "               precision    recall  f1-score   support\n",
      "\n",
      "           0       0.67      0.59      0.63     10219\n",
      "           1       0.72      0.78      0.75     13339\n",
      "\n",
      "   micro avg       0.70      0.70      0.70     23558\n",
      "   macro avg       0.70      0.69      0.69     23558\n",
      "weighted avg       0.70      0.70      0.70     23558\n",
      "\n",
      "Matriz de confusión:\n",
      " [[ 6076  4143]\n",
      " [ 2929 10410]]\n"
     ]
    }
   ],
   "source": [
    "# Details of the model\n",
    "print(\"Coeficientes del modelo: \\n\", logistic_reg_model.coef_)\n",
    "print(\"Score sobre el conjunto de datos completo:\", logistic_reg_model.score(X,y))\n",
    "\n",
    "# Quality of the model\n",
    "y_pred = logistic_reg_model.predict(X)\n",
    "AUC = metrics.roc_auc_score(y, y_pred)\n",
    "print(\"AUC =\", AUC)\n",
    "print(\"Cualidades de la clasificación:\\n\", classification_report(y, y_pred))\n",
    "print(\"Matriz de confusión:\\n\", confusion_matrix(y, y_pred,labels = range(2)) )"
   ]
  },
  {
   "cell_type": "markdown",
   "metadata": {},
   "source": [
    "# Máquinas de soporte vectorial (SVM)\n",
    "Ahora obtenemos un modelo por SVMs. En la selección del modelo evaluamos modelos con diferentes coeficientes de regularización C y gama, y evaluamos con 3fold cross validation"
   ]
  },
  {
   "cell_type": "code",
   "execution_count": 7,
   "metadata": {},
   "outputs": [],
   "source": [
    "# Import scikit-learn modules\n",
    "from sklearn.svm import SVC\n",
    "from sklearn.model_selection import GridSearchCV\n",
    "from sklearn.model_selection import train_test_split\n",
    "\n",
    "# Split the data\n",
    "X_train, X_test, y_train, y_test = train_test_split(X, y, test_size=0.30, random_state=1)\n",
    "\n",
    "# SLOW!!!\n",
    "# Find best SVM model through 3fold cv and grid search, radial kernel\n",
    "grid = {'C': [1, 10, 100], 'gamma': [0.001, 0.01, 0.1], }\n",
    "svm_model = GridSearchCV(SVC(kernel='rbf'), grid, cv=3, iid=False)\n",
    "\n",
    "svm_model = svm_model.fit(X_train, y_train)"
   ]
  },
  {
   "cell_type": "code",
   "execution_count": 9,
   "metadata": {},
   "outputs": [
    {
     "name": "stdout",
     "output_type": "stream",
     "text": [
      "Mejor modelo SVM encontrado por grid search:\n",
      "SVC(C=10, cache_size=200, class_weight=None, coef0=0.0,\n",
      "  decision_function_shape='ovr', degree=3, gamma=0.01, kernel='rbf',\n",
      "  max_iter=-1, probability=False, random_state=None, shrinking=True,\n",
      "  tol=0.001, verbose=False)\n"
     ]
    }
   ],
   "source": [
    "print(\"Mejor modelo SVM encontrado por grid search:\")\n",
    "print(svm_model.best_estimator_)"
   ]
  }
 ],
 "metadata": {
  "kernelspec": {
   "display_name": "Python 3",
   "language": "python",
   "name": "python3"
  },
  "language_info": {
   "codemirror_mode": {
    "name": "ipython",
    "version": 3
   },
   "file_extension": ".py",
   "mimetype": "text/x-python",
   "name": "python",
   "nbconvert_exporter": "python",
   "pygments_lexer": "ipython3",
   "version": "3.7.1"
  }
 },
 "nbformat": 4,
 "nbformat_minor": 2
}
